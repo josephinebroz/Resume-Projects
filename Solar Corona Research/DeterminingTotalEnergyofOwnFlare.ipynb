{
  "nbformat": 4,
  "nbformat_minor": 0,
  "metadata": {
    "colab": {
      "provenance": []
    },
    "kernelspec": {
      "name": "python3",
      "display_name": "Python 3"
    }
  },
  "cells": [
    {
      "cell_type": "markdown",
      "metadata": {
        "id": "sX7HCiXZfv6F"
      },
      "source": [
        "# **Team ID: [72317]**"
      ]
    },
    {
      "cell_type": "markdown",
      "metadata": {
        "id": "hIy_0Svcf8lc"
      },
      "source": [
        "# **Flare Information:**\n",
        "\n",
        "**Flare name: c_class_1**\n",
        "\n",
        "**Flare date and time (in UCT) of the peak of the flare: 12/25/2011 @20:30**\n",
        "\n",
        "**Approximate peak height (in $W/m^2$): 7.7e-6**\n",
        "\n",
        "**Flare subclass (e.g., C5): C7**"
      ]
    },
    {
      "cell_type": "markdown",
      "metadata": {
        "id": "U8yvZDCtYeG5"
      },
      "source": [
        "# **Determing total energy of your own flare**\n",
        "\n",
        "Welcome to Weeks 9 and 10! During these next two labs, you will be choosing your own flare to analyze from the Space Weather Data Portal and calculating the total energy of the flare. Your lab group has been assigned a flare class--you can find this assignment on Canvas.\n",
        "\n",
        "Remember, the [X-ray flare classification](https://spaceweather.com/glossary/flareclasses.html) represents the peak irradiance of the flare (as seen for wavelengths within the 1 to 8 $Å$ range) and   includes two parts. First, a letter (A, B, C, M, and X) representing an order of magnitude of the flare, and secondly, a number (1-9) within the specified order. For example, a X3 flare has a peak irradiance of $3 × 10^{-4}$ $W/m^2$; whereas, a M3 flare has ten times lower irradiance. If the flare is larger than an X9 ($9 \\times 10^{-4} W/m^2$), then the number is extended beyond 9. For example, a X14 flare has a peak irradiance of $14 × 10^{-4} W/m^2$.\n",
        "\n",
        "> (1) Go to the Space Weather Data Portal and choose a flare from the assigned class.\n",
        "\n",
        "> (2) Provide a description of the flare you chose at the top of the page and give the flare a unique name--be creative!\n",
        "\n",
        "> (3) Download the data from the flare into a CSV file.\n",
        "\n",
        "> (4) Use a similar procedure from last weeks lab and modify the code you wrote to determine the total energy of the flare of this flare.\n",
        "\n",
        "> (5) Document your code using markdown cells and comments to explain your procedure.\n",
        "\n",
        "> (6) Bonus: If you finish, find more flares to analyze!"
      ]
    },
    {
      "cell_type": "markdown",
      "metadata": {
        "id": "LgaCcNfNRknV"
      },
      "source": [
        "# **Task 1: Find your solar flare**\n",
        "\n",
        "Go onto the [Space Weather Data Portal website](https://lasp.colorado.edu/space-weather-portal/) and follow the [tutorial posted on Canvas](https://canvas.colorado.edu/courses/64020/pages/week-8#Tutorial2) to find a flare of the assigned class type that occured during the **GOES-15 satellite solar maxiumum (01/01/2011 - 01/01/2015)**.\n",
        "\n",
        "Choose the flares to help the research project (i.e, not flares that have been previously analyzed in the class such as the Sept. 10th, 2017 flare or the flares from the baseline correction examples colab notebook which occurred on May 5th, 2015, November 11th, 2013 and March 31st, 2011).\n",
        "\n"
      ]
    },
    {
      "cell_type": "markdown",
      "metadata": {
        "id": "Y3mEFqQ4R7cT"
      },
      "source": []
    },
    {
      "cell_type": "markdown",
      "metadata": {
        "id": "KzuRGk4ZSv8E"
      },
      "source": [
        "# **Task 2: Download the data**\n",
        "\n",
        "Download the longwave data from the Space Weather Data Portal website as a .csv file."
      ]
    },
    {
      "cell_type": "markdown",
      "metadata": {
        "id": "gsRDfdNBjfNp"
      },
      "source": [
        "# **Task 3: Determine total energy of flare**\n",
        "\n",
        "Import the XRS longwave data of the solar flare you chose onto your personal computer. You can follow the same procedure that you used in the Week 6 lab.\n",
        "\n",
        "Execute the code cell below to save the data into the variable \"solar_data\". Note, you may need to change the file name to match the file you imported into this session. Additionally, if you leave this session you may need to repeat the above steps to import the file again."
      ]
    },
    {
      "cell_type": "code",
      "metadata": {
        "id": "0U_woJrZYN59",
        "colab": {
          "base_uri": "https://localhost:8080/",
          "height": 419
        },
        "outputId": "d4e0c723-b8c9-4a61-fa03-84602ae5eabf"
      },
      "source": [
        "import pandas as pd\n",
        "\n",
        "solar_data = pd.read_csv('c_class_1.csv')     # Import data using pandas library\n",
        "\n",
        "display(solar_data)       # Display the dataframe of the solar data"
      ],
      "execution_count": null,
      "outputs": [
        {
          "output_type": "display_data",
          "data": {
            "text/html": [
              "<div>\n",
              "<style scoped>\n",
              "    .dataframe tbody tr th:only-of-type {\n",
              "        vertical-align: middle;\n",
              "    }\n",
              "\n",
              "    .dataframe tbody tr th {\n",
              "        vertical-align: top;\n",
              "    }\n",
              "\n",
              "    .dataframe thead th {\n",
              "        text-align: right;\n",
              "    }\n",
              "</style>\n",
              "<table border=\"1\" class=\"dataframe\">\n",
              "  <thead>\n",
              "    <tr style=\"text-align: right;\">\n",
              "      <th></th>\n",
              "      <th>time (milliseconds since 1970-01-01)</th>\n",
              "      <th>longwave (W/m^2)</th>\n",
              "    </tr>\n",
              "  </thead>\n",
              "  <tbody>\n",
              "    <tr>\n",
              "      <th>0</th>\n",
              "      <td>1.324841e+12</td>\n",
              "      <td>9.973691e-07</td>\n",
              "    </tr>\n",
              "    <tr>\n",
              "      <th>1</th>\n",
              "      <td>1.324841e+12</td>\n",
              "      <td>9.644669e-07</td>\n",
              "    </tr>\n",
              "    <tr>\n",
              "      <th>2</th>\n",
              "      <td>1.324841e+12</td>\n",
              "      <td>9.310890e-07</td>\n",
              "    </tr>\n",
              "    <tr>\n",
              "      <th>3</th>\n",
              "      <td>1.324841e+12</td>\n",
              "      <td>9.054680e-07</td>\n",
              "    </tr>\n",
              "    <tr>\n",
              "      <th>4</th>\n",
              "      <td>1.324841e+12</td>\n",
              "      <td>8.828750e-07</td>\n",
              "    </tr>\n",
              "    <tr>\n",
              "      <th>...</th>\n",
              "      <td>...</td>\n",
              "      <td>...</td>\n",
              "    </tr>\n",
              "    <tr>\n",
              "      <th>215</th>\n",
              "      <td>1.324854e+12</td>\n",
              "      <td>5.311310e-07</td>\n",
              "    </tr>\n",
              "    <tr>\n",
              "      <th>216</th>\n",
              "      <td>1.324854e+12</td>\n",
              "      <td>5.353400e-07</td>\n",
              "    </tr>\n",
              "    <tr>\n",
              "      <th>217</th>\n",
              "      <td>1.324854e+12</td>\n",
              "      <td>5.320840e-07</td>\n",
              "    </tr>\n",
              "    <tr>\n",
              "      <th>218</th>\n",
              "      <td>1.324854e+12</td>\n",
              "      <td>5.296410e-07</td>\n",
              "    </tr>\n",
              "    <tr>\n",
              "      <th>219</th>\n",
              "      <td>1.324854e+12</td>\n",
              "      <td>5.294700e-07</td>\n",
              "    </tr>\n",
              "  </tbody>\n",
              "</table>\n",
              "<p>220 rows × 2 columns</p>\n",
              "</div>"
            ],
            "text/plain": [
              "     time (milliseconds since 1970-01-01)  longwave (W/m^2)\n",
              "0                            1.324841e+12      9.973691e-07\n",
              "1                            1.324841e+12      9.644669e-07\n",
              "2                            1.324841e+12      9.310890e-07\n",
              "3                            1.324841e+12      9.054680e-07\n",
              "4                            1.324841e+12      8.828750e-07\n",
              "..                                    ...               ...\n",
              "215                          1.324854e+12      5.311310e-07\n",
              "216                          1.324854e+12      5.353400e-07\n",
              "217                          1.324854e+12      5.320840e-07\n",
              "218                          1.324854e+12      5.296410e-07\n",
              "219                          1.324854e+12      5.294700e-07\n",
              "\n",
              "[220 rows x 2 columns]"
            ]
          },
          "metadata": {
            "tags": []
          }
        }
      ]
    },
    {
      "cell_type": "markdown",
      "metadata": {
        "id": "IMut-LToqmqi"
      },
      "source": [
        "The solar flare data is in the units of solar irradiance ($\\frac{W}{m^2}$). As you know by now, the next step is to use this to calculate energy per second ($ergs/s$) and convert time from ISO units to seconds.\n",
        "\n",
        "You've done this multiple times before at this point, so we'll just re-use the kind of code you've previously written to do this:"
      ]
    },
    {
      "cell_type": "code",
      "metadata": {
        "id": "kFM8f17ZrBBi",
        "colab": {
          "base_uri": "https://localhost:8080/",
          "height": 419
        },
        "outputId": "ad8dd198-8ab2-4e8e-de15-c05aa9c5c958"
      },
      "source": [
        "import numpy as np\n",
        "\n",
        "# Calculate power in ergs/s\n",
        "w2erg = 10**7 # Conversion factors from watts to ergs per second\n",
        "int_m2 = 4*np.pi*(1.496*10**11)**2 # area to integrate over\n",
        "solar_data['longwave (W/m^2)'] = solar_data['longwave (W/m^2)']*w2erg*int_m2\n",
        "# Rename dataframe\n",
        "solar_data = solar_data.rename(columns={'longwave (W/m^2)': 'longwave (ergs/s)'})\n",
        "\n",
        "\n",
        "# Convert miliseconds to seconds\n",
        "solar_data['time (milliseconds since 1970-01-01)'] = solar_data['time (milliseconds since 1970-01-01)']/1000\n",
        "# Rename dataframe\n",
        "solar_data = solar_data.rename(columns={'time (milliseconds since 1970-01-01)': 'time (s)'})\n",
        "\n",
        "# Calculate elasped time from first data point\n",
        "solar_data.iloc[:,0] = solar_data.iloc[:,0]-solar_data.iloc[0,0]\n",
        "\n",
        "##### Display data frame #####\n",
        "display(solar_data)"
      ],
      "execution_count": null,
      "outputs": [
        {
          "output_type": "display_data",
          "data": {
            "text/html": [
              "<div>\n",
              "<style scoped>\n",
              "    .dataframe tbody tr th:only-of-type {\n",
              "        vertical-align: middle;\n",
              "    }\n",
              "\n",
              "    .dataframe tbody tr th {\n",
              "        vertical-align: top;\n",
              "    }\n",
              "\n",
              "    .dataframe thead th {\n",
              "        text-align: right;\n",
              "    }\n",
              "</style>\n",
              "<table border=\"1\" class=\"dataframe\">\n",
              "  <thead>\n",
              "    <tr style=\"text-align: right;\">\n",
              "      <th></th>\n",
              "      <th>time (s)</th>\n",
              "      <th>longwave (ergs/s)</th>\n",
              "    </tr>\n",
              "  </thead>\n",
              "  <tbody>\n",
              "    <tr>\n",
              "      <th>0</th>\n",
              "      <td>0.0</td>\n",
              "      <td>2.804975e+24</td>\n",
              "    </tr>\n",
              "    <tr>\n",
              "      <th>1</th>\n",
              "      <td>60.0</td>\n",
              "      <td>2.712442e+24</td>\n",
              "    </tr>\n",
              "    <tr>\n",
              "      <th>2</th>\n",
              "      <td>120.0</td>\n",
              "      <td>2.618570e+24</td>\n",
              "    </tr>\n",
              "    <tr>\n",
              "      <th>3</th>\n",
              "      <td>180.0</td>\n",
              "      <td>2.546515e+24</td>\n",
              "    </tr>\n",
              "    <tr>\n",
              "      <th>4</th>\n",
              "      <td>240.0</td>\n",
              "      <td>2.482975e+24</td>\n",
              "    </tr>\n",
              "    <tr>\n",
              "      <th>...</th>\n",
              "      <td>...</td>\n",
              "      <td>...</td>\n",
              "    </tr>\n",
              "    <tr>\n",
              "      <th>215</th>\n",
              "      <td>12900.0</td>\n",
              "      <td>1.493739e+24</td>\n",
              "    </tr>\n",
              "    <tr>\n",
              "      <th>216</th>\n",
              "      <td>12960.0</td>\n",
              "      <td>1.505576e+24</td>\n",
              "    </tr>\n",
              "    <tr>\n",
              "      <th>217</th>\n",
              "      <td>13020.0</td>\n",
              "      <td>1.496419e+24</td>\n",
              "    </tr>\n",
              "    <tr>\n",
              "      <th>218</th>\n",
              "      <td>13080.0</td>\n",
              "      <td>1.489548e+24</td>\n",
              "    </tr>\n",
              "    <tr>\n",
              "      <th>219</th>\n",
              "      <td>13140.0</td>\n",
              "      <td>1.489068e+24</td>\n",
              "    </tr>\n",
              "  </tbody>\n",
              "</table>\n",
              "<p>220 rows × 2 columns</p>\n",
              "</div>"
            ],
            "text/plain": [
              "     time (s)  longwave (ergs/s)\n",
              "0         0.0       2.804975e+24\n",
              "1        60.0       2.712442e+24\n",
              "2       120.0       2.618570e+24\n",
              "3       180.0       2.546515e+24\n",
              "4       240.0       2.482975e+24\n",
              "..        ...                ...\n",
              "215   12900.0       1.493739e+24\n",
              "216   12960.0       1.505576e+24\n",
              "217   13020.0       1.496419e+24\n",
              "218   13080.0       1.489548e+24\n",
              "219   13140.0       1.489068e+24\n",
              "\n",
              "[220 rows x 2 columns]"
            ]
          },
          "metadata": {
            "tags": []
          }
        }
      ]
    },
    {
      "cell_type": "markdown",
      "metadata": {
        "id": "VlG94uDerHLr"
      },
      "source": [
        "Next, let's plot the solar flare data as energy per second ($ergs/s$) versus time ($seconds$), so that we can clearly visualize the flare. Again, we've done this before, so we can reuse code:\n",
        "\n",
        "\n"
      ]
    },
    {
      "cell_type": "code",
      "metadata": {
        "id": "o5U0iL7_rXAR",
        "colab": {
          "base_uri": "https://localhost:8080/",
          "height": 295
        },
        "outputId": "4b4626b7-1b9b-4d21-b8fe-8ecb345fd70d"
      },
      "source": [
        "import matplotlib.pyplot as plt\n",
        "\n",
        "plt.plot(solar_data.iloc[25:190,0], solar_data.iloc[25:190,1])  # Plot the solar data from index 130 to index 190\n",
        "plt.title(\"Solar Flare\") ##set title of graph\n",
        "## label axises of the graph\n",
        "plt.ylabel(\"Power (ergs/s)\")\n",
        "plt.xlabel(\"Time (s)\")\n",
        "\n",
        "plt.show()"
      ],
      "execution_count": null,
      "outputs": [
        {
          "output_type": "display_data",
          "data": {
            "image/png": "[encoded data removed]",
            "text/plain": [
              "<Figure size 432x288 with 1 Axes>"
            ]
          },
          "metadata": {
            "tags": [],
            "needs_background": "light"
          }
        }
      ]
    },
    {
      "cell_type": "markdown",
      "metadata": {
        "id": "MrNHESMDQNLW"
      },
      "source": [
        "## Basline correction\n",
        "\n",
        "As you learned in [Week 7 lecture](https://www.youtube.com/watch?v=XlbRg3e4T9g&feature=youtu.be), one of the primary challenges in determining the total energy of the flare is dealing with the \"background.\" The sun is giving off x-rays even before a flare happens, and we do not want to accidentally include the energy of those x-rays as part of the flare energy. As a result, we need to determine the amount of x-ray power being emitted before the flare (the \"baseline\") and subtract it from the observed power during the flare to make sure we are only determining the *new* energy created by the flare itself.\n",
        "\n",
        "Make sure your team has a clear plan for this; refer back to the Week 7 pre-lab lecture, the examples of baseline corrections on the Week 7 Canvas page, or  ask your TA if you need help!\n",
        "\n",
        "Hint:\n",
        "You will want to plot the data from the time period leading up to the flare in order to \"see\" it clearly and to decide on a strategy. For this part, we don't have to care yet about having time in seconds. In fact, it might be easier to leave time in arbitraty \"index\" units (i.e., data point 1, data point 2, data point 3, and so on). That way, it will be easy to discuss which data points you want to focus on. For example, maybe you think the pre-flare background is points 4 through 50. Then you can easily access these data points like this:\n",
        "\n",
        "`solar_data.iloc[4:50,1]`\n"
      ]
    },
    {
      "cell_type": "markdown",
      "metadata": {
        "id": "MucnLZ1A9sKY"
      },
      "source": [
        "## **Question 1:** In a new markdown cell, explain, in words, how you are doing the baseline correction and the reasoning behind the method you chose. Be as detailed as possible!\n"
      ]
    },
    {
      "cell_type": "markdown",
      "metadata": {
        "id": "7_OOGyYfIcGf"
      },
      "source": [
        "We first will plot the whole data file to find where the best spot to get basline correction. We then will analyze the data for the best range. This will be done by graphing multiple different ranges to determine the most accurate representation of the flare's baseline eneregy. Using this range of data, we will take the mean. That mean will be our basline value for the flare."
      ]
    },
    {
      "cell_type": "code",
      "metadata": {
        "id": "D6pEfNoHQRh3",
        "colab": {
          "base_uri": "https://localhost:8080/"
        },
        "outputId": "6d8d65b0-ba74-4f94-868f-1edf35dcfbb5"
      },
      "source": [
        "# You may need the statistics library for determining means and medians\n",
        "import statistics as stats\n",
        "\n",
        "# You will need to plot your flare (as shown in the examples of baseline corrections notebook)\n",
        "# in order to look at the pre-flare data and show the baseline corrected flare\n",
        "import matplotlib.pyplot as plt\n",
        "\n",
        "## Write your code here\n",
        "\n",
        "baseline = solar_data.iloc[130:190,1].mean() ## get the mean of the solar data from index 130 to 190\n",
        "print(\"baseline: \", baseline)\n",
        "solar_data['longwave (ergs/s)'] = solar_data['longwave (ergs/s)'] - baseline\n",
        "\n",
        "\n",
        "\n"
      ],
      "execution_count": null,
      "outputs": [
        {
          "output_type": "stream",
          "text": [
            "baseline:  1.460429038423056e+24\n"
          ],
          "name": "stdout"
        }
      ]
    },
    {
      "cell_type": "markdown",
      "metadata": {
        "id": "cXwwc4c8Rovi"
      },
      "source": [
        "## Reporting total energy"
      ]
    },
    {
      "cell_type": "markdown",
      "metadata": {
        "id": "sSpQCjBvFGVh"
      },
      "source": [
        "Once you have determined the baseline and subtracted this \"background,\" you are ready to determine the total flare energy. Last week, we did this for a practice flare using a function we called `integrate.trapz`. Use this same function to compute the total energy of your new flare, referring back to your work last week if you need to.\n",
        "\n",
        "Note: As several of our teams learned last week, this function is a little tricky! Make sure to use the appropiate limits for integration by indexing the `x` and `y` variables. You also have to tell it both the y-data AND the x-data to get the integration right (by default, it integrates assuming the x-coordinates are 1, 2, 3, 4, etc.) Be careful with that this week!\n"
      ]
    },
    {
      "cell_type": "markdown",
      "metadata": {
        "id": "NkW2VlIV6yRn"
      },
      "source": [
        "## **Question 2:** In a new markdown cell, describe how you are computing the total energy produced by the flare."
      ]
    },
    {
      "cell_type": "markdown",
      "metadata": {
        "id": "sQpLcPV9J8zP"
      },
      "source": [
        "Using the integrate.trapz() function, we will integrate over an interval of time defined by our data collected 12/15/2011 (indeces 25-190). This integral will represent the total area under the ergs/s graph over that same period of time. The integral will be equal to the total power produced by the flare in ergs."
      ]
    },
    {
      "cell_type": "code",
      "metadata": {
        "id": "wURiE2BoR2fg",
        "colab": {
          "base_uri": "https://localhost:8080/"
        },
        "outputId": "94d01f78-0366-4bf3-e966-1d54e9801c8e"
      },
      "source": [
        "#Import the integrate function; we will use trapezoidal integradion ('integreat.trapz')\n",
        "import scipy.integrate as integrate\n",
        "A_woblc = integrate.trapz(solar_data.iloc[25:190,1], solar_data.iloc[25: 190,0]) ## integrates ergs/s over the interval [25,190]\n",
        "print('Total energy of the flare is: ',A_woblc, ' ergs') ##prints final energy neatly"
      ],
      "execution_count": null,
      "outputs": [
        {
          "output_type": "stream",
          "text": [
            "Total energy of the flare is:  1.1279461464012452e+28  ergs\n"
          ],
          "name": "stdout"
        }
      ]
    },
    {
      "cell_type": "markdown",
      "metadata": {
        "id": "gPt7cY5srceC"
      },
      "source": []
    },
    {
      "cell_type": "code",
      "metadata": {
        "id": "oxsMlooyQfkc"
      },
      "source": [],
      "execution_count": null,
      "outputs": []
    },
    {
      "cell_type": "markdown",
      "metadata": {
        "id": "ENkEMvazTesz"
      },
      "source": []
    }
  ]
}
