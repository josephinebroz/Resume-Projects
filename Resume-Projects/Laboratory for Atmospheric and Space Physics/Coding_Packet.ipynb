{
  "nbformat": 4,
  "nbformat_minor": 0,
  "metadata": {
    "colab": {
      "provenance": [],
      "toc_visible": true
    },
    "kernelspec": {
      "display_name": "Python 3",
      "name": "python3"
    }
  },
  "cells": [
    {
      "cell_type": "markdown",
      "metadata": {
        "id": "aKILrYGWpRCg"
      },
      "source": [
        "# **Author:** `[Josephine Brozny]`"
      ]
    },
    {
      "cell_type": "markdown",
      "metadata": {
        "id": "NEekmlrVOKa7"
      },
      "source": [
        "# **The Big Picture**\n",
        "\n",
        "Welcome to class! Today we tackle a mini-project that, along the way, will start to give us the skills we need for our real research project.\n",
        "\n",
        "Check out the graph below and see if you can figure out what it's telling us. Each data point represents a different crater on the moon. On the x-axis, we've plotted the crater's diameter. On the y-axis, we've plotted a measure of how \"typical\" that kind of crater is-- that is, how frequently we find craters of that approximate size on the moon.\n",
        "\n",
        "<img src=https://i.pinimg.com/originals/53/b4/44/53b4440cac5d3454734d41f27932c49a.png\n",
        " width=\"450\">"
      ]
    },
    {
      "cell_type": "markdown",
      "metadata": {
        "id": "qVTTY9h3VR2c"
      },
      "source": [
        "The graph seems to say that the smaller the craters are more often found on the moon, at least up to a point. Can we find an exact numerical relationship that describes this? Something that tells us just how frequently each type of crater occurs, as a function of size?\n",
        "\n",
        "You might recognize this as being very similar to our research question for the semester: determining an equation to predict just how frequently different types of solar flares occur, as a function of the total flare energy. That question turns out to be much harder for a number of reasons. So let's practice first with the craters.\n",
        "\n",
        "So, let's think about the relationship between crater diameters and frequency of occurance on the moon. At first glance at the graph above, the relationship may seem linear; however, notice the spacing of the tick marks both the x- and y- axes. This graph has been plotted on a log-log scale. Therefore the relationship is not linear but a power law. There are a few different theoretical reasons to think there is a \"power law\" relationship between the diameter of a crater (\"$d$\") and how frequently that type of crater occurrs (\"$F$\"). In other words\n",
        "\n",
        "$$F = k d^\\alpha$$\n",
        "\n",
        "with some exponent $\\alpha$ and some constant of proporitonality $k$. If we can show that this equation applies, and determine $\\alpha$ and $k$ (of the two, $\\alpha$ is generally the more interesting), we'll have our equation.\n",
        "\n",
        "In this assignment, we'll learn all the basic data analysis tools we'll be using this semester and explore a programming language called Python. For variety, we'll play around with data about both solar flares and craters. But don't forget about the graph above. By the end, you will be able to produce it yourself from the raw data, and then determine the equation it encodes!"
      ]
    },
    {
      "cell_type": "markdown",
      "metadata": {
        "id": "ibvLYFpfYXW4"
      },
      "source": [
        "# **Introduction to using Google Colaboratory**\n",
        "\n",
        "\n",
        " To analyze our data, both for today's mini \"craters\" project and for our semester-long solar flare project, we'll be using code in the ***Python programming language***. Maybe you've been writing Python all your life, or maybe you're just hearing about it for the first time. Doesn't matter! We don't assume you have any prior knowledge. If you do, just bear with us, as we get everyone up to speed.\n",
        "\n",
        "We'll be \"learning\" Python exactly the same way lots of scientists first learn a new programming language: Not with a formal course, but just by looking at examples of the code in action and then playing around with it and modifying it to see what they can change.     \n",
        "\n",
        "To use a Python program, you also have to have a place to write and run this code. In this course, we'll use a tool called Google Colaboratory, or just \"***Google Colab***\" for short. That's the page you're on right now, in fact. Colab lets you combine written words like this (\"rich text\") and Python code you can actually run (\"executable code\"), which you will see below.\n"
      ]
    },
    {
      "cell_type": "markdown",
      "metadata": {
        "id": "cp3Pe84fFtJ-"
      },
      "source": [
        "# **Overview of the Coding Packet**\n",
        "\n",
        "This coding packet is an *individual* assignment. This means you can ask your teammates and TA for help, but the work must be completed on your own. You have a full week to complete this assignment--it is due at 11pm MT the day before your Week 6 lab section. If you need help after your Week 5 lab section, please attend any of the TA office hours listed on Canvas.\n",
        "\n",
        "> **Problem 1:** Formatting text in Colab using \"markdown\" cells\n",
        "\n",
        "> **Problem 2:** Creating and running a \"code\" cell\n",
        "\n",
        "> **Problem 3:** Writing readable code and commenting\n",
        "\n",
        "> **Problem 4:** Indexing with lists\n",
        "\n",
        "> **Problem 5:** Using built-in Python functions\n",
        "\n",
        "> **Problem 6:** Using functions from Python libraries\n",
        "\n",
        "> **Problem 7:** Working with dataframes\n",
        "\n",
        "> **Problem 8:** Advanced plotting\n",
        "\n",
        "> **Problem 9:** Finding the relationship between lunar crater diameter and\n",
        "frequency, Part 1\n",
        "\n",
        "> **Problem 10:** Finding the relationship between lunar crater diameter and frequency, Part 2"
      ]
    },
    {
      "cell_type": "markdown",
      "metadata": {
        "id": "n3ehGTlJolMZ"
      },
      "source": [
        "# **Formatting text in Colab: A guide to \"markdown\"**\n",
        "\n",
        "\n",
        "Before we even get to the Python, let's start by learning how to enter text and format it in Google Colab. We'll need this to be able to write about our research and our results along the way. We'll be using something called \"markdown\".\n",
        "\n",
        "## What is markdown?\n",
        "\n",
        "Google Colab notebooks are broken up into sections called \"cells\". Cells are either text cells, like this one, or code cells, where you'll write and run programs.\n",
        "\n",
        " Choose a text cell somewhere in this notebook and double click on it. You'll pull up the markdown that was used to make the text appear the way it does.\n",
        "\n",
        "## Using Markdown\n",
        "\n",
        "Here's a few common text formatting things you might want to do with markdown. You can find lots more things that markdown can do by searching online for things like \"markdown reference\" or \"markdown cheat sheet.\" [Here's one](https://www.markdownguide.org/cheat-sheet/), for example.\n",
        "\n",
        "\n",
        "\n",
        "\n",
        "\n",
        "* To make a bulleted list (like this one!) type an asterisk (\\*) or a dash (-) at the beginning of the line, with a space after it.\n",
        "  * Lists can be nested (like this!) using two spaces in front of the asterisk or dash for each level of nesting.\n",
        "      * See?\n",
        "\n",
        "* To make text **bold** surround it with \\*\\*two asterisks\\*\\*.\n",
        "\n",
        "* To make text *italic* suround it with \\*single asterisks\\* or \\_underscores\\_.\n",
        "\n",
        "\n",
        "* `Text formatted like this is called \"monospace\"`. It's traditionally used for examples of code in the middle of regular text. To make your text look like this, surround it by the \"backtick\" symbol: \\`\n",
        "This is probably on the same key as the tilde for a standard English keyboard.\n",
        "\n",
        "Markdown also has has a built-in way to display professional looking mathematical equations, using another text language called \"LaTex\" (usually pronounced \"Lah-tech\" or \"lay-tech\").\n",
        "\n",
        "> To type an equation, surround it with dollar signs. Between the dollar signs, you can use LaTex notation to make the equations come out looking proper. For example, typing \"`$E = mc^2$`\" renders as  $E = mc^2$.\n",
        "\n",
        "\n",
        "> A few common bits of LaTex notation you may want to know:\n",
        "\n",
        ">    * To get a greek character like $\\lambda$, type its name with a backslash before it (`\\$\\lambda$`)\n",
        ">    * Underscores create subscripts like in $\\mu_k$ (`$ \\mu_k\\$`)\n",
        ">    * The up caret \"\\^\" create superscripts like in $\\pi r^2$ (`$ pi r^2$`)\n",
        ">    * To express a square root like $\\sqrt{2}$, use `$\\sqrt{2}`\n",
        "\n",
        "\n",
        "\n",
        "This should give you more than you need for our course, but if you want more detailed markdown instructions, you can check out [GitHub's documentation](https://help.github.com/articles/basic-writing-and-formatting-syntax/). GitHub is a website that is widely used by anyone who needs to write, share, and collaborate on code, and they use a very similar (though not identical) version of markdown.\n",
        "\n",
        "\n",
        "\n",
        "\n"
      ]
    },
    {
      "cell_type": "markdown",
      "metadata": {
        "id": "5AKmax4tpsSH"
      },
      "source": [
        "## `Problem 1`\n",
        "`Now: Your turn to try formatting text. Use the guide above and/or the editing toolbar at the top of the window, and talk with your classmates and TAs if you need help!`\n",
        "\n",
        " ` 1) To enter some text, create a text cell below. Hover your mouse below this cell and click on \"+ Text\" when it appears. `\n",
        "\n",
        " ` 2) Edit the text cell you created by double clicking on the new cell you created.`\n",
        "\n",
        " ` 3) Write a sentence with one word in bold and one in italics.`\n",
        "\n",
        "`  5) Write a phrase using monospace.`\n",
        "\n",
        " ` 6) Format your favorite equation using LaTex (choose something with at least one feature that couldn't easily be expressed in plain text, like a Greek character, an exponent, etc).`\n",
        "\n",
        "  `7) Create a bullet point list of any questions or concerns you have so far.`"
      ]
    },
    {
      "cell_type": "markdown",
      "metadata": {
        "id": "cjFXFi3Vza_Q"
      },
      "source": [
        "*Italics* **Bold**\n",
        "\n",
        "My *name* is **Josephine**\n",
        "\n",
        "`this is a phrase in monospace`\n",
        "\n",
        "$E=mc^2$\n",
        "\n",
        "- I have no questions\n"
      ]
    },
    {
      "cell_type": "markdown",
      "metadata": {
        "id": "zQF5Y4oOLcCN"
      },
      "source": [
        "# **Introduction to Python coding**\n",
        "\n",
        "Alright, let's learn to work with Python code, so we can use it to study things like craters and solar flares.\n",
        "\n",
        "Python is a powerful, high-level programming language designed to be easy to read (compared to some other languages). It is currently ranked as the most popular programming languages globally.\n",
        "\n",
        "Don't forget, you don't need to learn to code from scratch. We just want you to be able to take Python code thay you see and adapt it or customize it to your own needs.\n",
        "\n",
        "Below is a **code cell** with a short Python script that computes a value, stores it in a variable, and prints the result:"
      ]
    },
    {
      "cell_type": "code",
      "metadata": {
        "id": "gJr_9dXGpJ05",
        "colab": {
          "base_uri": "https://localhost:8080/"
        },
        "outputId": "7aab2771-60e1-490f-d51d-79dfc83ea298"
      },
      "source": [
        "seconds_in_an_hour = 60 * 60\n",
        "print(seconds_in_an_hour)"
      ],
      "execution_count": null,
      "outputs": [
        {
          "output_type": "stream",
          "text": [
            "3600\n"
          ],
          "name": "stdout"
        }
      ]
    },
    {
      "cell_type": "markdown",
      "metadata": {
        "id": "2fhs6GZ4qFMx"
      },
      "source": [
        "To execute the code in the above cell, select it with a click and then either press the play button to the left of the code, or use the keyboard shortcut \"Command/Ctrl+Enter\". To edit the code, just click the cell once and start editing.\n",
        "\n",
        "This code defines a variable which is equal to 60 times 60. Then, it prints the value of that variable.\n",
        "\n",
        "After being executed, variables that you define in one cell can also be used later in other cells:"
      ]
    },
    {
      "cell_type": "code",
      "metadata": {
        "id": "-gE-Ez1qtyIA",
        "colab": {
          "base_uri": "https://localhost:8080/",
          "height": 178
        },
        "outputId": "f6f6afd8-a1d6-425f-a19b-739ee77aca32"
      },
      "source": [
        "seconds_in_a_day = 24 * seconds_in_an_hour\n",
        "print(seconds_in_a_day)"
      ],
      "execution_count": null,
      "outputs": [
        {
          "output_type": "error",
          "ename": "NameError",
          "evalue": "ignored",
          "traceback": [
            "\u001b[0;31m---------------------------------------------------------------------------\u001b[0m",
            "\u001b[0;31mNameError\u001b[0m                                 Traceback (most recent call last)",
            "\u001b[0;32m<ipython-input-37-8caaa9e72fff>\u001b[0m in \u001b[0;36m<module>\u001b[0;34m()\u001b[0m\n\u001b[0;32m----> 1\u001b[0;31m \u001b[0mseconds_in_a_day\u001b[0m \u001b[0;34m=\u001b[0m \u001b[0;36m24\u001b[0m \u001b[0;34m*\u001b[0m \u001b[0mseconds_in_an_hour\u001b[0m\u001b[0;34m\u001b[0m\u001b[0;34m\u001b[0m\u001b[0m\n\u001b[0m\u001b[1;32m      2\u001b[0m \u001b[0mprint\u001b[0m\u001b[0;34m(\u001b[0m\u001b[0mseconds_in_a_day\u001b[0m\u001b[0;34m)\u001b[0m\u001b[0;34m\u001b[0m\u001b[0;34m\u001b[0m\u001b[0m\n",
            "\u001b[0;31mNameError\u001b[0m: name 'seconds_in_an_hour' is not defined"
          ]
        }
      ]
    },
    {
      "cell_type": "markdown",
      "metadata": {
        "id": "Tcd75aWVgIvs"
      },
      "source": [
        "When coding, variable names are case-sensitive. For example, if I wrote:"
      ]
    },
    {
      "cell_type": "code",
      "metadata": {
        "id": "F10bipMDgJjK",
        "colab": {
          "base_uri": "https://localhost:8080/",
          "height": 178
        },
        "outputId": "7b82300e-6694-419c-99d4-56c311532eda"
      },
      "source": [
        "seconds_in_a_day = 24 * seconds_in_an_hour\n",
        "print(Seconds_In_A_Day)"
      ],
      "execution_count": null,
      "outputs": [
        {
          "output_type": "error",
          "ename": "NameError",
          "evalue": "ignored",
          "traceback": [
            "\u001b[0;31m---------------------------------------------------------------------------\u001b[0m",
            "\u001b[0;31mNameError\u001b[0m                                 Traceback (most recent call last)",
            "\u001b[0;32m<ipython-input-3-1ca4581bf32a>\u001b[0m in \u001b[0;36m<module>\u001b[0;34m()\u001b[0m\n\u001b[1;32m      1\u001b[0m \u001b[0mseconds_in_a_day\u001b[0m \u001b[0;34m=\u001b[0m \u001b[0;36m24\u001b[0m \u001b[0;34m*\u001b[0m \u001b[0mseconds_in_an_hour\u001b[0m\u001b[0;34m\u001b[0m\u001b[0;34m\u001b[0m\u001b[0m\n\u001b[0;32m----> 2\u001b[0;31m \u001b[0mprint\u001b[0m\u001b[0;34m(\u001b[0m\u001b[0mSeconds_In_A_Day\u001b[0m\u001b[0;34m)\u001b[0m\u001b[0;34m\u001b[0m\u001b[0;34m\u001b[0m\u001b[0m\n\u001b[0m",
            "\u001b[0;31mNameError\u001b[0m: name 'Seconds_In_A_Day' is not defined"
          ]
        }
      ]
    },
    {
      "cell_type": "markdown",
      "metadata": {
        "id": "I1YKEk2RgLg7"
      },
      "source": [
        "I get an \"error\" that says `NameError: name \"Seconds_In_A_day\" is not defined`\", which is true because only \"`seconds_in_a_day`\" (lower case!) exists!"
      ]
    },
    {
      "cell_type": "markdown",
      "metadata": {
        "id": "_sCRfnTYdnfP"
      },
      "source": [
        "## `Problem 2`\n",
        "\n",
        "`1) Create a new code cell by hovering your mouse below this cell and clicking + Code.`\n",
        "\n",
        "`2) Copy and paste the code from the previous code cell that produced an error into your new code cell. Edit the code to correct this error.`\n",
        "\n",
        "`3) On a new line in the same code cell, write 'print(\"The number of seconds in a day is \", seconds_in_a_day)' and run the cell. Can you figure out how this new bit of code is working?`\n",
        "\n",
        "`2) On a new line in the same code cell, write some code that uses the variable 'seconds_in_a_day' to calculate the number of seconds in a week. Name the new variable 'seconds_in_a_week'.`\n",
        "\n",
        "`4) By adapting the example code in part 3, write another line of code that prints a sentence telling us the number of seconds in a week.`"
      ]
    },
    {
      "cell_type": "code",
      "metadata": {
        "colab": {
          "base_uri": "https://localhost:8080/"
        },
        "id": "lXkLSQve1Lp8",
        "outputId": "322a046e-5405-41b7-fa04-aac9460f03e7"
      },
      "source": [
        "seconds_in_a_day = 24 * seconds_in_an_hour\n",
        "print(\"The number of seconds in a day is \", seconds_in_a_day)"
      ],
      "execution_count": null,
      "outputs": [
        {
          "output_type": "stream",
          "text": [
            "The number of seconds in a day is  86400\n"
          ],
          "name": "stdout"
        }
      ]
    },
    {
      "cell_type": "code",
      "metadata": {
        "colab": {
          "base_uri": "https://localhost:8080/"
        },
        "id": "iP0ySPQ31j6J",
        "outputId": "b0586e32-e040-440a-984d-87cde0c49fa6"
      },
      "source": [
        "seconds_in_a_day = 86400\n",
        "seconds_in_a_week = 7 * seconds_in_a_day\n",
        "print(\"the number of seconds in a week is \", seconds_in_a_week)"
      ],
      "execution_count": null,
      "outputs": [
        {
          "output_type": "stream",
          "text": [
            "the number of seconds in a week is  604800\n"
          ],
          "name": "stdout"
        }
      ]
    },
    {
      "cell_type": "markdown",
      "metadata": {
        "id": "A5Pj2xGUfsww"
      },
      "source": [
        "# **Writing readable code**\n",
        "\n",
        "Sometimes, you want to include comments about your code along the way, line by line. This is called **commenting** your code.\n",
        "\n",
        "In Python, you can do this by using a hashtag.  Everything after the hashtag is treated as text, rather than code, so the computer will not try to run it. Note, Markdown does not work within a code comment like this.\n",
        "\n",
        "To see what code commenting looks like, read through the code below, and see if you can figure out how it works by reading our comments (if it doesn't completely make sense to you yet, that's okay.)"
      ]
    },
    {
      "cell_type": "code",
      "metadata": {
        "id": "Mb38KIeSgz00",
        "colab": {
          "base_uri": "https://localhost:8080/"
        },
        "outputId": "b0ae5b6f-da1e-490d-f518-c6ae20a265ed"
      },
      "source": [
        "primes = [2, 3, 5, 7, 11] # create a list of numbers\n",
        "print(\"The first prime number is\", primes[0]) # print the first item in the list of primes."
      ],
      "execution_count": null,
      "outputs": [
        {
          "output_type": "stream",
          "text": [
            "The first prime number is 2\n"
          ],
          "name": "stdout"
        }
      ]
    },
    {
      "cell_type": "markdown",
      "metadata": {
        "id": "9B2vaYfDjXmw"
      },
      "source": [
        "## `Problem 3`\n",
        "\n",
        "`1) Create a new code cell by hovering your mouse below this cell and clicking + Code.`\n",
        "\n",
        "`2) Copy and paste your code from Problem 2, but this time, add some comments to explain each step.`\n",
        "\n",
        "\n",
        "By the way, more than one scientist has been embarrassed over the years because of something they wrote as a comment in their code that they didn't expect anyone\n",
        "else to see. Always assume your comments will eventually be public!"
      ]
    },
    {
      "cell_type": "code",
      "metadata": {
        "colab": {
          "base_uri": "https://localhost:8080/"
        },
        "id": "q1uiUFek3t9b",
        "outputId": "99e811bd-f23f-4c32-bd37-08804bf2c447"
      },
      "source": [
        "seconds_in_a_day = 86400 #establishes the number of seconds in a day\n",
        "seconds_in_a_week = 7 * seconds_in_a_day #equasion to find the number of seconds in a week\n",
        "print(\"the number of seconds in a week is \", seconds_in_a_week) #articulates the outcome"
      ],
      "execution_count": null,
      "outputs": [
        {
          "output_type": "stream",
          "text": [
            "the number of seconds in a week is  604800\n"
          ],
          "name": "stdout"
        }
      ]
    },
    {
      "cell_type": "markdown",
      "metadata": {
        "id": "RESoDvh8MWez"
      },
      "source": [
        "# **Lists**\n",
        "\n",
        "As you just saw in the previous example, one thing you can do in Python is create \"lists.\" In fact, lists are one of the central features of Python.\n",
        "\n",
        "A list is just what it sounds like in English: a collection of things in a particular order. Think for example of a list of the sizes of every crater on the moon, or a list of the energies of all the solar flares in the last 20 years.\n",
        "\n",
        "In Python, lists are written with square brackets, with the items separated by commas. The items in a list can be numbers, text, or even other things.\n",
        "\n",
        "Let's look at an example using text (called \"strings\"). Notice that strings are always placed in quotation marks."
      ]
    },
    {
      "cell_type": "code",
      "metadata": {
        "id": "BSPmrMUPrYqB",
        "colab": {
          "base_uri": "https://localhost:8080/"
        },
        "outputId": "2fea45fa-495a-4052-9746-2c28ce2db044"
      },
      "source": [
        "quarks = [\"up\", \"down\",  \"charm\", \"strange\", \"top\", \"bottom\"]   # List of types of quarks\n",
        "print(quarks) # Print the list to make sure it looks right\n",
        "\n",
        "# Does writing this code make us \"string\" theorists?"
      ],
      "execution_count": null,
      "outputs": [
        {
          "output_type": "stream",
          "text": [
            "['up', 'down', 'charm', 'strange', 'top', 'bottom']\n"
          ],
          "name": "stdout"
        }
      ]
    },
    {
      "cell_type": "markdown",
      "metadata": {
        "id": "uoSPstgDecNh"
      },
      "source": [
        "If you want an individual element of a list, you refer to it with its \"index number.\" Same goes if you want a subset of the list. This will be a very important skill for us! That's how we'll access the particular datapoints we are interested in.\n",
        "\n",
        "For example:"
      ]
    },
    {
      "cell_type": "code",
      "metadata": {
        "id": "B7u5zSyDe3hj",
        "colab": {
          "base_uri": "https://localhost:8080/"
        },
        "outputId": "1bb3cb3e-f204-473b-f774-0f1850e82857"
      },
      "source": [
        "\n",
        "print(quarks[0]) # Print the first element of the list\n",
        "print(quarks[3]) # Print the fourth element of the list (not a typo! see below)\n"
      ],
      "execution_count": null,
      "outputs": [
        {
          "output_type": "stream",
          "text": [
            "up\n",
            "strange\n"
          ],
          "name": "stdout"
        }
      ]
    },
    {
      "cell_type": "markdown",
      "metadata": {
        "id": "OZUVGirpfuDX"
      },
      "source": [
        "Notice: The first item in a list is called \"item 0\" not \"item 1\". So to get the first quark on the list, we use `quarks[0]`, to get the second quark we use `quarks[1]`, etc.\n",
        "\n",
        "Now, suppose you want not just a single element, but a subset of a list (\"slicing\" the list). Here's how we do that:"
      ]
    },
    {
      "cell_type": "code",
      "metadata": {
        "id": "O1taw7zoOU4O",
        "colab": {
          "base_uri": "https://localhost:8080/"
        },
        "outputId": "9ecd65e2-072b-4a9c-d0f8-bd8831a0f0f6"
      },
      "source": [
        "print(quarks[3:6]) # Print the fourth, fifth, and sixth elements of the list!"
      ],
      "execution_count": null,
      "outputs": [
        {
          "output_type": "stream",
          "text": [
            "['strange', 'top', 'bottom']\n"
          ],
          "name": "stdout"
        }
      ]
    },
    {
      "cell_type": "markdown",
      "metadata": {
        "id": "jqMbw8x5OUgs"
      },
      "source": [
        " The syntax here might be a little counterintuitive. It goes like this:\n",
        "\n",
        "`list[ <first element to include> : <first element to EXCLUDE> : <step size> ]`.\n",
        "\n",
        "Do you see why `quarks[3:6]` gave us the fourth, fifth, and sixth elements?\n",
        "\n",
        "If you leave out the `<step size>` it is set to the default value of 1. Here are a few examples. For each one, predict what output you should get, and then run the code to see if you are right!"
      ]
    },
    {
      "cell_type": "code",
      "metadata": {
        "id": "nLF_UQwfjYGv",
        "colab": {
          "base_uri": "https://localhost:8080/"
        },
        "outputId": "6b5d94ac-0258-41ea-a25e-3f2d90e30607"
      },
      "source": [
        "print(quarks[0:3])"
      ],
      "execution_count": null,
      "outputs": [
        {
          "output_type": "stream",
          "text": [
            "['up', 'down', 'charm']\n"
          ],
          "name": "stdout"
        }
      ]
    },
    {
      "cell_type": "code",
      "metadata": {
        "id": "JLaCiR-4jojD",
        "colab": {
          "base_uri": "https://localhost:8080/"
        },
        "outputId": "af4fcdd8-5240-4e26-8d53-bd78084641fe"
      },
      "source": [
        "print(quarks[0:5:2])"
      ],
      "execution_count": null,
      "outputs": [
        {
          "output_type": "stream",
          "text": [
            "['up', 'charm', 'top']\n"
          ],
          "name": "stdout"
        }
      ]
    },
    {
      "cell_type": "markdown",
      "metadata": {
        "id": "-YPAi-1zjXPh"
      },
      "source": [
        "\n",
        "\n",
        "You can also save a subsection of a list as another variable. For example, we can use indexing to seperate out the quarks into their generations."
      ]
    },
    {
      "cell_type": "code",
      "metadata": {
        "id": "MvSUdr26gFcX",
        "colab": {
          "base_uri": "https://localhost:8080/"
        },
        "outputId": "b97f3ef5-14be-4d0a-8cb4-c311cbe1689e"
      },
      "source": [
        "quarks_1stGen = quarks[0:2]\n",
        "quarks_2ndGen = quarks[2:4]\n",
        "quarks_3rdGen = quarks[4:6]\n",
        "\n",
        "print(quarks_1stGen)\n",
        "print(quarks_2ndGen)\n",
        "print(quarks_3rdGen)"
      ],
      "execution_count": null,
      "outputs": [
        {
          "output_type": "stream",
          "text": [
            "['up', 'down']\n",
            "['charm', 'strange']\n",
            "['top', 'bottom']\n"
          ],
          "name": "stdout"
        }
      ]
    },
    {
      "cell_type": "markdown",
      "metadata": {
        "id": "7GE3I6SSm6zU"
      },
      "source": [
        "We can do a few more fun things with lists. For example, we can change an item:"
      ]
    },
    {
      "cell_type": "code",
      "metadata": {
        "id": "tQtmufIwnFQq",
        "colab": {
          "base_uri": "https://localhost:8080/"
        },
        "outputId": "3d191ea1-ecd9-43a9-ed49-d7a19c5996ee"
      },
      "source": [
        "quarks[4] = \"truth\"    # Replace the 4th index with \"truth\"\n",
        "print(quarks)\n",
        "\n",
        "# For a while in the 70's, some physicists preferred the names\n",
        "# \"truth\" and \"beauty\" for the \"top\" and \"bottom\" quarks!"
      ],
      "execution_count": null,
      "outputs": [
        {
          "output_type": "stream",
          "text": [
            "['up', 'down', 'charm', 'strange', 'truth', 'bottom']\n"
          ],
          "name": "stdout"
        }
      ]
    },
    {
      "cell_type": "markdown",
      "metadata": {
        "id": "FMtE_t16ZCr5"
      },
      "source": [
        "One of the downsides of lists is that you cannot perform mathematical operations on them the way you might expect.\n",
        "\n",
        "For example: remember our list of the first few prime numbers? If you want to divide each prime by two, you might naturally try the code written below... but it won't work. Instead, if you execute the code cell below you should get an error that says `TypeError: unsupported operand type(s) for /: 'list' and 'int'`. It's telling you that you cannot divide a list by an integer (int), even if the list consists purely of numbers."
      ]
    },
    {
      "cell_type": "code",
      "metadata": {
        "id": "3HE71PcsZJ5U",
        "colab": {
          "base_uri": "https://localhost:8080/",
          "height": 178
        },
        "outputId": "8b42ec5a-0153-4f4d-bb5b-06caadbdce50"
      },
      "source": [
        "primes = [2, 3, 5, 7, 11]\n",
        "primes/2"
      ],
      "execution_count": null,
      "outputs": [
        {
          "output_type": "error",
          "ename": "TypeError",
          "evalue": "ignored",
          "traceback": [
            "\u001b[0;31m---------------------------------------------------------------------------\u001b[0m",
            "\u001b[0;31mTypeError\u001b[0m                                 Traceback (most recent call last)",
            "\u001b[0;32m<ipython-input-40-497e241e1903>\u001b[0m in \u001b[0;36m<module>\u001b[0;34m()\u001b[0m\n\u001b[1;32m      1\u001b[0m \u001b[0mprimes\u001b[0m \u001b[0;34m=\u001b[0m \u001b[0;34m[\u001b[0m\u001b[0;36m2\u001b[0m\u001b[0;34m,\u001b[0m \u001b[0;36m3\u001b[0m\u001b[0;34m,\u001b[0m \u001b[0;36m5\u001b[0m\u001b[0;34m,\u001b[0m \u001b[0;36m7\u001b[0m\u001b[0;34m,\u001b[0m \u001b[0;36m11\u001b[0m\u001b[0;34m]\u001b[0m\u001b[0;34m\u001b[0m\u001b[0;34m\u001b[0m\u001b[0m\n\u001b[0;32m----> 2\u001b[0;31m \u001b[0mprimes\u001b[0m\u001b[0;34m/\u001b[0m\u001b[0;36m2\u001b[0m\u001b[0;34m\u001b[0m\u001b[0;34m\u001b[0m\u001b[0m\n\u001b[0m",
            "\u001b[0;31mTypeError\u001b[0m: unsupported operand type(s) for /: 'list' and 'int'"
          ]
        }
      ]
    },
    {
      "cell_type": "markdown",
      "metadata": {
        "id": "JUEUQMJcZge7"
      },
      "source": [
        "Don't worry--of course we'll eventually be able to perform mathematical operations on our data. We'll see some ways to do this in the next sections. But first, show us that you can use lists in the following problems. Feel free to borrow and modify code from the examples above."
      ]
    },
    {
      "cell_type": "markdown",
      "metadata": {
        "id": "kxoIPSgfp3_3"
      },
      "source": [
        "## `Problem 4`\n",
        "\n",
        "`1) Create a new code cell below.`\n",
        "\n",
        "`2) Make a list of the first ten integers: [1, 2, 3, 4, 5, 6, 7, 8, 9, 10] and give it a variable name.`\n",
        "\n",
        "`3) Using indexing to print the item at the 5th index. Explain in a comment what output to expect and why.`\n",
        "\n",
        "`4) Use slicing to create a new list with only the numbers 7, 8, and 9.`\n",
        "\n"
      ]
    },
    {
      "cell_type": "markdown",
      "metadata": {
        "id": "APYQRpJD416g"
      },
      "source": [
        "Congratulations-- now you know about one of Python's most important features!\n",
        "\n",
        "Lists are just one way of representing collections of datapoints in Python. In this course we'll use something similar, but more advanced, called a **dataframe**.  We will discuss these later in the section \"Working with dataframes\", and by the time we get there, your familiarity with lists will make them much easier to understand."
      ]
    },
    {
      "cell_type": "code",
      "metadata": {
        "colab": {
          "base_uri": "https://localhost:8080/"
        },
        "id": "k-aHVnY07YIQ",
        "outputId": "2eab1d73-0363-4e44-befb-a3196f160f26"
      },
      "source": [
        "integers = [1, 2, 3, 4, 5, 6, 7, 8, 9, 10]\n",
        "print (integers [4]) # starts at 0, so print the number in order of one less than the integer you want"
      ],
      "execution_count": null,
      "outputs": [
        {
          "output_type": "stream",
          "text": [
            "5\n"
          ],
          "name": "stdout"
        }
      ]
    },
    {
      "cell_type": "code",
      "metadata": {
        "colab": {
          "base_uri": "https://localhost:8080/"
        },
        "id": "JTgSCG4D8a7F",
        "outputId": "d24d73df-9b5a-47c0-f2d7-7c6aaf316e86"
      },
      "source": [
        "integers = [1, 2, 3, 4, 5, 6, 7, 8, 9, 10]\n",
        "print (integers[6:9])"
      ],
      "execution_count": null,
      "outputs": [
        {
          "output_type": "stream",
          "text": [
            "[7, 8, 9]\n"
          ],
          "name": "stdout"
        }
      ]
    },
    {
      "cell_type": "markdown",
      "metadata": {
        "id": "nDHPx1dGHosZ"
      },
      "source": [
        "# **Functions**\n",
        "\n",
        "In Python, you might simply think of a function as \"something that performs a specific task.\" Notice this is not the same as the very precise definition of \"function\" in mathematics. When you're talking Python, don't think \"f(x)\" but think \"performing a certain function.\"\n",
        "\n",
        "\n",
        "## Built-In Functions\n",
        "\n",
        "We've already seen some functions that are built-in to Python, like `print()`. They perform convenient actions all in one step. We'll use them to manipulate our crater data today, and our flare data during the rest of the semester.\n",
        "\n",
        "A few other common built-in functions:\n",
        "\n",
        "* `len()`\n",
        "* `sum()`\n",
        "* `max()`\n",
        "* `min()`\n",
        "* `sorted()`\n",
        "\n",
        "Each function has certain rules involved with using it. Here is a link to a full list of how to use the built-in functions: https://docs.python.org/3/library/functions.html.  For example, when you look up the function `len()` is says:\n",
        "\n",
        "`len(s)`\n",
        "\n",
        "`Returns the length (the number of items) of an object. The argument may be a sequence (such as a string, bytes, tuple, list, or range) or a collection (such as a dictionary, set, or frozen set).`\n",
        "\n",
        "So, for whatever you put inside the parentheses (the \"argument\") it will tell you its length, if it can.\n",
        "\n",
        "Look at the code cells below to see some other functions at work. Try to guess what the output will be. Then, run each piece of code and see if your prediction was correct!\n"
      ]
    },
    {
      "cell_type": "code",
      "metadata": {
        "id": "ukTv6rkuIne5",
        "colab": {
          "base_uri": "https://localhost:8080/"
        },
        "outputId": "48dff3cf-ded0-4644-b875-bd2f603599d5"
      },
      "source": [
        "my_list = [5, 8, 1, 6, 3, 14, 6, 20, 13, 25, 10]  # Create the variable \"my_list\" with some random data\n",
        "print(my_list)\n"
      ],
      "execution_count": null,
      "outputs": [
        {
          "output_type": "stream",
          "text": [
            "[5, 8, 1, 6, 3, 14, 6, 20, 13, 25, 10]\n"
          ],
          "name": "stdout"
        }
      ]
    },
    {
      "cell_type": "code",
      "metadata": {
        "id": "Ot2deAYZI9or",
        "colab": {
          "base_uri": "https://localhost:8080/"
        },
        "outputId": "a4625880-e07d-4b59-8521-7da2011f897c"
      },
      "source": [
        "max(my_list)    # Find the maximum value in my_list"
      ],
      "execution_count": null,
      "outputs": [
        {
          "output_type": "execute_result",
          "data": {
            "text/plain": [
              "25"
            ]
          },
          "metadata": {
            "tags": []
          },
          "execution_count": 27
        }
      ]
    },
    {
      "cell_type": "code",
      "metadata": {
        "id": "fFARxIp3JAQG",
        "colab": {
          "base_uri": "https://localhost:8080/"
        },
        "outputId": "ac0b536f-08b9-433f-fccb-6c8f26a445b7"
      },
      "source": [
        "sorted(my_list)    # Sort my list from smallest value to largest"
      ],
      "execution_count": null,
      "outputs": [
        {
          "output_type": "execute_result",
          "data": {
            "text/plain": [
              "[1, 3, 5, 6, 6, 8, 10, 13, 14, 20, 25]"
            ]
          },
          "metadata": {
            "tags": []
          },
          "execution_count": 28
        }
      ]
    },
    {
      "cell_type": "markdown",
      "metadata": {
        "id": "o4BMymjEM32W"
      },
      "source": [
        "## `Problem 5`\n",
        "\n",
        "` 1) Create a new code cell below. `\n",
        "\n",
        "` 2) Use one of the functions listed above to find the sum of all the elements in my_list.`\n",
        "\n",
        "`3) Use one of the functions listed above to find the sum of just the FIRST THREE elements of my_list. `"
      ]
    },
    {
      "cell_type": "code",
      "metadata": {
        "colab": {
          "base_uri": "https://localhost:8080/"
        },
        "id": "GlDd5Ys__KnG",
        "outputId": "a26af9b8-ccca-44c0-a952-e61b3e96ac28"
      },
      "source": [
        "my_list = [5, 8, 1, 6, 3, 14, 6, 20, 13, 25, 10]\n",
        "sum(my_list)"
      ],
      "execution_count": null,
      "outputs": [
        {
          "output_type": "execute_result",
          "data": {
            "text/plain": [
              "111"
            ]
          },
          "metadata": {
            "tags": []
          },
          "execution_count": 29
        }
      ]
    },
    {
      "cell_type": "code",
      "metadata": {
        "colab": {
          "base_uri": "https://localhost:8080/"
        },
        "id": "j5y7Ltwy_UqN",
        "outputId": "145814cb-bd10-4a5a-bc18-a70164d03063"
      },
      "source": [
        "my_list = [5, 8, 1, 6, 3, 14, 6, 20, 13, 25, 10]\n",
        "sum(my_list[0:3])"
      ],
      "execution_count": null,
      "outputs": [
        {
          "output_type": "execute_result",
          "data": {
            "text/plain": [
              "14"
            ]
          },
          "metadata": {
            "tags": []
          },
          "execution_count": 30
        }
      ]
    },
    {
      "cell_type": "markdown",
      "metadata": {
        "id": "DTGk7GFSoPpw"
      },
      "source": [
        "# **Python libraries**\n",
        "\n",
        "These built-in functions are limited. Luckily, since Python is open-sourced, you can use functions that *other people* have written. A collection of functions someone else has written for use in Python is called a **library**.\n",
        "\n",
        "To use the functions in one of these libraries in Google Colab, you will need to \"import\" the libraries in every new colab notebook before you can use their functions.\n",
        "\n",
        "Two famous python libraries you will use often are called **numpy** and **pyplot**, which is a library within within **matplotlib**."
      ]
    },
    {
      "cell_type": "code",
      "metadata": {
        "id": "C4HZx7Gndbrh"
      },
      "source": [
        "import numpy as np       # Here we import the library numpy and call it np for short\n",
        "from matplotlib import pyplot as plt   # Here we import pyplot from matplotlib\n",
        "                                       # and call it plt"
      ],
      "execution_count": null,
      "outputs": []
    },
    {
      "cell_type": "markdown",
      "metadata": {
        "id": "sbR4FDiw641Y"
      },
      "source": [
        "Execute the code in the above. These two libraries are now imported and the functions within them are now available to you in this notebook just like the built in functions were.\n",
        "\n",
        "We'll use these two lines of code a lot this semester-- feel free to copy and paste whenever you need access to these libraries of functions."
      ]
    },
    {
      "cell_type": "markdown",
      "metadata": {
        "id": "vtOUzQQV6qv0"
      },
      "source": [
        "## Basic Plotting\n",
        "\n",
        "Let's put these new functions to use. We'll eventualy want to plot our data, so to practice, let's use the fuctions [random.random()](https://numpy.org/devdocs/reference/random/generated/numpy.random.random.html) to make some random data and and [plot()](https://matplotlib.org/3.2.2/api/_as_gen/matplotlib.pyplot.plot.html) to make a graph of it.\n",
        "\n",
        "Notice how we use these functions: since they come from a library, we have to tell Python which library to get them from. Instead of just writing \"random.random\" we write (np.random.random), which means \"the random.random function found within the library that we nicknamed \"np.\")\n",
        "\n",
        "Try executing the code below. Note: If you see an error that says \"NameError: name 'np' is not defined\" then it is telling you that the library has not actually been imported correctly. Make sure you have executed the code cell above that imports the two libraries."
      ]
    },
    {
      "cell_type": "code",
      "metadata": {
        "id": "TYLNlgGL6tCK",
        "colab": {
          "base_uri": "https://localhost:8080/",
          "height": 281
        },
        "outputId": "ea4dac7e-a262-4919-f175-565dc3b3bc57"
      },
      "source": [
        "xdata = range(1,101)            # \"range(a, b)\" just generates a list from a to\n",
        "                                # b-1. So the x data is [1,2,3, .... 100]\n",
        "\n",
        "ydata = np.random.random(100)    # The function random.random() inside the numpy\n",
        "                                 # library (which we called np) will generate\n",
        "                                 # 100 random data points between 0 and 1. We\n",
        "                                 # then save that data as the variable ys.\n",
        "\n",
        "plt.plot(xdata, ydata, 'g-')      # The function plot() inside the library pyplot\n",
        "                                 # (which we called plt) will plot the y-data vs\n",
        "                                 # the x-data using a line (-) in the\n",
        "                                 # color green (\"g\")\n",
        "\n",
        "plt.title(\"Random data\")         # We can also use the function title() to add a\n",
        "                                 # title to our plot. Notice the quotation marks\n",
        "                                 # around the text\n",
        "\n",
        "plt.show()                       # Last, we use the fuction show() to display\n",
        "                                 # the plot when we execute the code. Notice\n",
        "                                 # this has to come AFTER the code where we add\n",
        "                                 # the plot title.\n"
      ],
      "execution_count": null,
      "outputs": [
        {
          "output_type": "display_data",
          "data": {
            "image/png": "[encoded data removed]",
            "text/plain": [
              "<Figure size 432x288 with 1 Axes>"
            ]
          },
          "metadata": {
            "tags": [],
            "needs_background": "light"
          }
        }
      ]
    },
    {
      "cell_type": "markdown",
      "metadata": {
        "id": "pt_kOOnZ8wze"
      },
      "source": [
        "You should see a plot with a green line that represents the random data you generated.\n",
        "\n",
        "This doesn't look like the same kind of plot we showed you with the crater data. But remember our strategy here: you don't need to know every detail about how these functions work, but should be able to adapt them to suit your needs in this course. Let's play with this plotting function and see how we could change it."
      ]
    },
    {
      "cell_type": "markdown",
      "metadata": {
        "id": "SuqBsS5p_OM4"
      },
      "source": [
        "## `Problem 6`\n",
        "\n",
        "`1) Create a new code cell below.`\n",
        "\n",
        "`2) Copy the code from the code cell above into the new code cell you just created.`\n",
        "\n",
        "`3) Edit the code (and the comments!) so that it plots 50 data points of random data between 0 and 1, connected by a line.`\n",
        "\n",
        "`3) Edit the code by replacing the dash '-' with a period '.', and run the code. In a comment, describe how this affected the the plot.`\n",
        "\n",
        "`4) Replace 'g' with 'r' and run the code. See if you can guess what the \"r\" meant.`\n",
        "\n",
        "`5) Based on what you've seen so far, figure out how to change the code so that it makes a scatter plot of blue dots, like in the crater plot we started with.`\n",
        "\n",
        "`6) Finally, add some axis labels (make something up!) by using the funtions xlabel() and ylabel() in pyplot. Hint: these functions work just like title(), which we used above.`"
      ]
    },
    {
      "cell_type": "code",
      "metadata": {
        "colab": {
          "base_uri": "https://localhost:8080/",
          "height": 295
        },
        "id": "x86l9IfEAc9E",
        "outputId": "375b6d0d-f830-4984-c2be-d24ad9fe7210"
      },
      "source": [
        "xdata = range(1,51)            #\n",
        "\n",
        "ydata = np.random.random(50)    #\n",
        "\n",
        "plt.plot(xdata, ydata, 'b.')      # replacing \"-\" with \".\" made the plot into\n",
        "plt.title(\"Random data\")         # a scatter plot instead of point connected by a\n",
        "                                  # line. Changing \"g\" to \"r\" changed the color\n",
        "plt.xlabel(\"Unicorns\")                  # from green to red.\n",
        "plt.ylabel(\"Per Square Inch\")\n",
        "plt.show()                       # Last, we use the fuction show() to display\n",
        "                                 # the plot when we execute the code. Notice\n",
        "                                 # this has to come AFTER the code where we add\n",
        "                                 # the plot title.\n"
      ],
      "execution_count": null,
      "outputs": [
        {
          "output_type": "display_data",
          "data": {
            "image/png": "[encoded data removed]",
            "text/plain": [
              "<Figure size 432x288 with 1 Axes>"
            ]
          },
          "metadata": {
            "tags": [],
            "needs_background": "light"
          }
        }
      ]
    },
    {
      "cell_type": "markdown",
      "metadata": {
        "id": "QAvoSip4-V44"
      },
      "source": [
        "# **Working With Dataframes**\n",
        "\n",
        "We practiced storing and accessing data in lists because those are the most basic objects in Python. But for our research, we'll need a more complex tool called a \"dataframe\" to store and manipulate our solar flare data (and today, our crater data). Fortunately, many of the basic ideas you just learned about lists will still apply.\n",
        "\n",
        "Dataframes are not built-in to python. They are part of the **pandas** library, so any time we want to use them, we'll need to start with something this:\n",
        "\n",
        "`import pandas as pd`\n",
        "\n",
        "Dataframes are useful in part because they can easily store data in a \"table\", with multiple columns. They also make it easy to import raw data from a .csv file.\n",
        "\n",
        "Let's try this out! This time, we'll practice with a dataframe containing some \"fake\" solar flare data (Sometimes \"fake\" data used for practice like this is called \"toy\" data in the world of computational physics). Then we'll move on to crater data later in this assignment.\n",
        "\n",
        "\n",
        "You should find a .csv file with the \"fake\" solar flare data on this week's page in Canvas. Download that .csv file onto your computer and upload it into this Google Colab notebook. To upload into this notebook click on the file icon on the left side of your screen:\n",
        "\n",
        "<img src=https://i.pinimg.com/originals/75/3d/f0/753df07fbbc9c7940794eb8c3fca1431.png\n",
        " width=\"500\">\n",
        "\n",
        "Then click on the \"upload to session storage\" icon:\n",
        "\n",
        "<img src=https://i.pinimg.com/originals/d8/87/0e/d8870ebe13dd3d1d63808d153bb66c6f.png\n",
        " width=\"500\">\n",
        "\n",
        "Find where you downloaded the .csv file onto your computer and click open."
      ]
    },
    {
      "cell_type": "code",
      "metadata": {
        "id": "7EN_xPjYAaPh",
        "colab": {
          "base_uri": "https://localhost:8080/",
          "height": 402
        },
        "outputId": "f22a5b27-90a0-42b5-9d6b-30ad70eed2f8"
      },
      "source": [
        "import pandas as pd\n",
        "\n",
        "df = pd.read_csv('df_data.csv')    # We'll read in the data\n",
        "                                    # from the csv and store it as a dataframe\n",
        "                                    # called \"df\". You may need to change the\n",
        "                                    # name to match the .csv that you downloaded.\n",
        "\n",
        "display(df)       # Display the dataframe, df. See how it's basically a data table"
      ],
      "execution_count": null,
      "outputs": [
        {
          "output_type": "display_data",
          "data": {
            "text/html": [
              "<div>\n",
              "<style scoped>\n",
              "    .dataframe tbody tr th:only-of-type {\n",
              "        vertical-align: middle;\n",
              "    }\n",
              "\n",
              "    .dataframe tbody tr th {\n",
              "        vertical-align: top;\n",
              "    }\n",
              "\n",
              "    .dataframe thead th {\n",
              "        text-align: right;\n",
              "    }\n",
              "</style>\n",
              "<table border=\"1\" class=\"dataframe\">\n",
              "  <thead>\n",
              "    <tr style=\"text-align: right;\">\n",
              "      <th></th>\n",
              "      <th>time (s)</th>\n",
              "      <th>longwave (W/m^2)</th>\n",
              "    </tr>\n",
              "  </thead>\n",
              "  <tbody>\n",
              "    <tr>\n",
              "      <th>0</th>\n",
              "      <td>3</td>\n",
              "      <td>3.310000e-24</td>\n",
              "    </tr>\n",
              "    <tr>\n",
              "      <th>1</th>\n",
              "      <td>6</td>\n",
              "      <td>9.180000e-10</td>\n",
              "    </tr>\n",
              "    <tr>\n",
              "      <th>2</th>\n",
              "      <td>9</td>\n",
              "      <td>1.850000e-09</td>\n",
              "    </tr>\n",
              "    <tr>\n",
              "      <th>3</th>\n",
              "      <td>12</td>\n",
              "      <td>2.780000e-09</td>\n",
              "    </tr>\n",
              "    <tr>\n",
              "      <th>4</th>\n",
              "      <td>15</td>\n",
              "      <td>3.730000e-09</td>\n",
              "    </tr>\n",
              "    <tr>\n",
              "      <th>...</th>\n",
              "      <td>...</td>\n",
              "      <td>...</td>\n",
              "    </tr>\n",
              "    <tr>\n",
              "      <th>9994</th>\n",
              "      <td>29985</td>\n",
              "      <td>1.330000e-10</td>\n",
              "    </tr>\n",
              "    <tr>\n",
              "      <th>9995</th>\n",
              "      <td>29988</td>\n",
              "      <td>1.060000e-10</td>\n",
              "    </tr>\n",
              "    <tr>\n",
              "      <th>9996</th>\n",
              "      <td>29991</td>\n",
              "      <td>7.970000e-11</td>\n",
              "    </tr>\n",
              "    <tr>\n",
              "      <th>9997</th>\n",
              "      <td>29994</td>\n",
              "      <td>5.310000e-11</td>\n",
              "    </tr>\n",
              "    <tr>\n",
              "      <th>9998</th>\n",
              "      <td>29997</td>\n",
              "      <td>2.660000e-11</td>\n",
              "    </tr>\n",
              "  </tbody>\n",
              "</table>\n",
              "<p>9999 rows × 2 columns</p>\n",
              "</div>"
            ],
            "text/plain": [
              "      time (s)  longwave (W/m^2)\n",
              "0            3      3.310000e-24\n",
              "1            6      9.180000e-10\n",
              "2            9      1.850000e-09\n",
              "3           12      2.780000e-09\n",
              "4           15      3.730000e-09\n",
              "...        ...               ...\n",
              "9994     29985      1.330000e-10\n",
              "9995     29988      1.060000e-10\n",
              "9996     29991      7.970000e-11\n",
              "9997     29994      5.310000e-11\n",
              "9998     29997      2.660000e-11\n",
              "\n",
              "[9999 rows x 2 columns]"
            ]
          },
          "metadata": {
            "tags": []
          }
        }
      ]
    },
    {
      "cell_type": "markdown",
      "metadata": {
        "id": "KB-3dTg0PjXq"
      },
      "source": [
        "**Selecting data from a dataframe**\n",
        "\n",
        "One thing we'll be doing over and over again in this project will be taking some data in a dataframe and then choosing only a specific subset of that data to look at.\n",
        "\n",
        "There are a few different ways you could do this. One simple way is that you can select just a single column of the data by referencing it's title. For example, if you only wanted to display only the third column, titled \"`longwave (W/m^2)`\", you can do the following:"
      ]
    },
    {
      "cell_type": "code",
      "metadata": {
        "id": "dP8BSetUQCZY"
      },
      "source": [
        "display(df['longwave (W/m^2)'])"
      ],
      "execution_count": null,
      "outputs": []
    },
    {
      "cell_type": "markdown",
      "metadata": {
        "id": "tVNpoDRItzh8"
      },
      "source": [
        "Let's try plotting this solar data to see what the flare looks like!"
      ]
    },
    {
      "cell_type": "code",
      "metadata": {
        "id": "A4RdHSNFxVut",
        "colab": {
          "base_uri": "https://localhost:8080/",
          "height": 295
        },
        "outputId": "6fd0c18e-4de5-4cb0-86ef-b4a2fa5a65e2"
      },
      "source": [
        "import matplotlib.pyplot as plt\n",
        "\n",
        "plt.plot(df['time (s)'], df['longwave (W/m^2)'])  # Plot the solar data. Time column on the\n",
        "                                                  # x-axis, longwave data on the y-axis\n",
        "\n",
        "plt.title(\"Solar Flare\")                          # Remember these functions?\n",
        "plt.ylabel(\"Irradiance (W/m^2)\")\n",
        "plt.xlabel(\"Time (s)\")\n",
        "plt.show()                                        # Don't forget plt.show()!"
      ],
      "execution_count": null,
      "outputs": [
        {
          "output_type": "display_data",
          "data": {
            "image/png": "[encoded data removed]",
            "text/plain": [
              "<Figure size 432x288 with 1 Axes>"
            ]
          },
          "metadata": {
            "tags": [],
            "needs_background": "light"
          }
        }
      ]
    },
    {
      "cell_type": "markdown",
      "metadata": {
        "id": "3psgcxWrQB6k"
      },
      "source": [
        "Nice; we can clearly see the output of the flare rise sharply and then slowly decay. But what if we want to pick and choose our data with more precision than that? Say we are interested in seeing what the sun was doing in the moments leading up to a solar flare, so we want to select only the data from BEFORE the flare to plot and analyze.\n",
        "\n",
        "To do this, we can use some functions built into the [**pandas** dataframe library](https://pandas.pydata.org/pandas-docs/stable/reference/api/pandas.DataFrame.html) such as `.iloc()` --short for \"index location\"--which allow us to access entries in the dataframe by their index number, like we did when we were \"slicing\" a list. See if you can figure out what the code below is doing, then read the comments in the code to see how it works."
      ]
    },
    {
      "cell_type": "code",
      "metadata": {
        "id": "3U-nkf6jQiH-",
        "colab": {
          "base_uri": "https://localhost:8080/",
          "height": 218
        },
        "outputId": "18168d4f-0587-4f17-ae30-6cfa4992c2ce"
      },
      "source": [
        "df_slice = df.iloc[100:201,1]     #select a specific region of the data\n",
        "                                  # \"100:201\" means \"start at entry 100, stop right\n",
        "                                  # BEFORE entry 201\"\n",
        "                                  # The \"1\" at the end means \"use the data from\n",
        "                                  # column 1 in the dataframe.\" Remember that in\n",
        "                                  # Python, the first column is column \"0\"!\n",
        "\n",
        "display(df_slice)             # display ONLY that slice of the data"
      ],
      "execution_count": null,
      "outputs": [
        {
          "output_type": "display_data",
          "data": {
            "text/plain": [
              "100    1.310000e-07\n",
              "101    1.330000e-07\n",
              "102    1.340000e-07\n",
              "103    1.360000e-07\n",
              "104    1.370000e-07\n",
              "           ...     \n",
              "196    2.950000e-07\n",
              "197    2.960000e-07\n",
              "198    2.980000e-07\n",
              "199    3.000000e-07\n",
              "200    3.020000e-07\n",
              "Name: longwave (W/m^2), Length: 101, dtype: float64"
            ]
          },
          "metadata": {
            "tags": []
          }
        }
      ]
    },
    {
      "cell_type": "markdown",
      "metadata": {
        "id": "m0ZaZMgJRAUa"
      },
      "source": [
        "In addition to plotting, we can then manipulate numerical columns in dataframes using mathematical functions. For example, let's try finding the mean of the data in that second column. We'll use the function \"mean\" from the numpy library."
      ]
    },
    {
      "cell_type": "code",
      "metadata": {
        "id": "ZcMhCwqCRjEr",
        "colab": {
          "base_uri": "https://localhost:8080/"
        },
        "outputId": "7e6983fb-f49f-4501-d7d1-fe2c28e8aaed"
      },
      "source": [
        "import numpy as np          #Remember you must import the library before you\n",
        "                            # can use the functions from it. We actually\n",
        "                            # already imported it earlier in this notebook\n",
        "                            # but you would need to if you hadn't.\n",
        "\n",
        "\n",
        "mean = np.mean(df['longwave (W/m^2)'])  # Take the mean of everything in the \"longwave column\"\n",
        "\n",
        "print('Mean: ', mean, ' W/m^2')         # Display the result.\n"
      ],
      "execution_count": null,
      "outputs": [
        {
          "output_type": "stream",
          "text": [
            "Mean:  3.3985775751574967e-07  W/m^2\n"
          ],
          "name": "stdout"
        }
      ]
    },
    {
      "cell_type": "markdown",
      "metadata": {
        "id": "hNjyIrSTUUAl"
      },
      "source": [
        "One more thing we'll want to do with the data in our dataframe: we can *integrate* it, to find the area under the curve. This won't be necessary for today's crater question, but will be vital for the flare project, where the area under the curve will represent the *total irradiance*, which is related directly to the total energy.\n",
        "\n",
        "We'll use the [`trapz` function](https://numpy.org/doc/stable/reference/generated/numpy.trapz.html) from the **numpy** library to do an approximate numerical integration. It's called \"trapz\" because `np.trapz(ydata, xdata)` outputs the definite integral of $y(x)$ as approximated by the [trapezoidal rule](https://en.wikipedia.org/wiki/Trapezoidal_rule)."
      ]
    },
    {
      "cell_type": "code",
      "metadata": {
        "id": "NWzsiVUKUTTs",
        "colab": {
          "base_uri": "https://localhost:8080/"
        },
        "outputId": "2a39f28c-3d4a-4437-9936-61c4fc7d104b"
      },
      "source": [
        "import numpy as np\n",
        "\n",
        "tot_irradiance = np.trapz(df['longwave (W/m^2)'], df['time (s)'])\n",
        "# the y data is the \"longwave\" column of df: df['longwave (W/m^2)']\n",
        "# the x data is the \"time\" column: df['time (s)']\n",
        "# Note that the y data goes FIRST, then x (unlike our plotting function!)\n",
        "\n",
        "print(\"Total irradiance of the flare over time recorded: \", tot_irradiance, \" W/m^2\")"
      ],
      "execution_count": null,
      "outputs": [
        {
          "output_type": "stream",
          "text": [
            "Total irradiance of the flare over time recorded:  0.0101947131123  W/m^2\n"
          ],
          "name": "stdout"
        }
      ]
    },
    {
      "cell_type": "markdown",
      "metadata": {
        "id": "S9lPwVP9BF6c"
      },
      "source": [
        "Now, your turn. In the problem below, you won't need anything other than what you just saw in the examples above, but you'll need to modify and combine them!"
      ]
    },
    {
      "cell_type": "markdown",
      "metadata": {
        "id": "c04h9ahVUFw9"
      },
      "source": [
        "## `Problem 7`\n",
        "\n",
        "`1) Create a new code cell below.`\n",
        "\n",
        "`2) Make a plot of the longwave data from df, but ONLY from points 800 to 1900.`\n",
        "\n",
        "`3) Take the average of the data in only that particular range.`\n",
        "\n",
        "`4) Find the integral of the data, in only that particular range.`"
      ]
    },
    {
      "cell_type": "code",
      "metadata": {
        "colab": {
          "base_uri": "https://localhost:8080/",
          "height": 329
        },
        "id": "q8hE3Y7l4kO4",
        "outputId": "6711e0ca-bf36-452b-bbe0-4cb6a82d862f"
      },
      "source": [
        "import numpy as np\n",
        "import matplotlib.pyplot as plt\n",
        "\n",
        "plt.plot(df['time (s)'], df['longwave (W/m^2)'],)  # Plot the solar data. Time column on the\n",
        "                                                  # x-axis, longwave data on the y-axis\n",
        "\n",
        "plt.title(\"Solar Flare\")                          # Remember these functions?\n",
        "plt.ylabel(\"Irradiance (W/m^2)\")\n",
        "plt.xlabel(\"Time (s)\")\n",
        "plt.xlim(800,1900)\n",
        "plt.show()\n",
        "\n",
        "split = df.iloc[800:1900,1]\n",
        "mean_split = np.mean(split)\n",
        "print(f\"The average of the data in this range is {mean_split:.2}\")\n",
        "\n",
        "print(f\"The integral of the data in the range is {np.trapz(split):.2}\")"
      ],
      "execution_count": null,
      "outputs": [
        {
          "output_type": "display_data",
          "data": {
            "image/png": "[encoded data removed]",
            "text/plain": [
              "<Figure size 432x288 with 1 Axes>"
            ]
          },
          "metadata": {
            "tags": [],
            "needs_background": "light"
          }
        },
        {
          "output_type": "stream",
          "text": [
            "The average of the data in this range is 8.4e-07\n",
            "The integral of the data in the range is 0.00092\n"
          ],
          "name": "stdout"
        }
      ]
    },
    {
      "cell_type": "markdown",
      "metadata": {
        "id": "JolN1zxEmNkG"
      },
      "source": [
        "#**Advanced Plotting**\n",
        "\n",
        "So far, we have seen examples of simple line plots and scatter plots, and how to change the color, line style, and axis labels. We're getting close to being able to fully analyze and the crater data. But there are a few additional plotting skills we will need first.\n"
      ]
    },
    {
      "cell_type": "markdown",
      "metadata": {
        "id": "3oxceTupCQQu"
      },
      "source": [
        "Sometimes, it's useful to plot two data sets in the same plot. For instance, you might want to To do that, just make both plots before using \"`plt.show()`\"\n"
      ]
    },
    {
      "cell_type": "code",
      "metadata": {
        "id": "QbnvIUgyCg6U",
        "colab": {
          "base_uri": "https://localhost:8080/",
          "height": 281
        },
        "outputId": "88b6b522-63fd-472b-8d84-436ae9d7725b"
      },
      "source": [
        "from matplotlib import pyplot as plt   # We already did this, so we don't need to\n",
        "                                       # do it again, but we didn't want you to forget\n",
        "                                      # That you have to do it once before you can plot.\n",
        "\n",
        "# First, let's make up some data for ourselves:\n",
        "\n",
        "xdata = [1, 2, 3, 4, 5]\n",
        "ydata = [1, 4, 9, 16, 25]\n",
        "\n",
        "# Plot the data two ways, but then show both.\n",
        "plt.plot(xdata, ydata, 'm--') # Plot in magenta with a dashed line\n",
        "plt.plot(xdata, ydata, 'c^') # plot in cyan wit  triangle markers\n",
        "plt.title('Combined Plot')\n",
        "plt.show()\n"
      ],
      "execution_count": null,
      "outputs": [
        {
          "output_type": "display_data",
          "data": {
            "image/png": "[encoded data removed]",
            "text/plain": [
              "<Figure size 432x288 with 1 Axes>"
            ]
          },
          "metadata": {
            "tags": [],
            "needs_background": "light"
          }
        }
      ]
    },
    {
      "cell_type": "markdown",
      "metadata": {
        "id": "Q40e_2WPTvv6"
      },
      "source": [
        "In addition to changing the markers, lines, and colors, we can also define the axes. Sometimes--like in the crater plot we started with--we will want our axes in [log scale](https://en.wikipedia.org/wiki/Logarithmic_scale).\n",
        "\n",
        "Logrithmic scales are particularly useful for data that covers a very large range of values. Let's make up a little example to see this, where the $x$ values are the integers 1-10 and the y-values are $y = e^x$."
      ]
    },
    {
      "cell_type": "code",
      "metadata": {
        "id": "L07bUDg8UZuH",
        "colab": {
          "base_uri": "https://localhost:8080/",
          "height": 279
        },
        "outputId": "93142d71-b81b-4f74-9d10-2a97f7eab247"
      },
      "source": [
        "import numpy as np\n",
        "import matplotlib.pyplot as plt\n",
        "\n",
        "xdata = [1, 2, 3, 4, 5, 6, 7, 8, 9, 10]\n",
        "ydata = np.exp(xdata)     # This is how to get e^x Using the numpy library\n",
        "\n",
        "plt.plot(xdata, ydata, 'o')\n",
        "plt.xlabel(\"x\")         # Set x-axis label\n",
        "plt.ylabel(\"y = e^x\")   # Set y-axis label\n",
        "\n",
        "plt.show()"
      ],
      "execution_count": null,
      "outputs": [
        {
          "output_type": "display_data",
          "data": {
            "image/png": "[encoded data removed]",
            "text/plain": [
              "<Figure size 432x288 with 1 Axes>"
            ]
          },
          "metadata": {
            "tags": [],
            "needs_background": "light"
          }
        }
      ]
    },
    {
      "cell_type": "markdown",
      "metadata": {
        "id": "kF4Jh1cfXIWS"
      },
      "source": [
        "These y-values get so large it can be hard to see the detail in the first few points. One way we can deal with the large range of data is to use a log scale on the axes. See if you can spot the command we're using to do that in the code below, and add a comment to label it."
      ]
    },
    {
      "cell_type": "code",
      "metadata": {
        "id": "WgcjreNUXVYR",
        "colab": {
          "base_uri": "https://localhost:8080/",
          "height": 279
        },
        "outputId": "0e00ec12-0573-48d3-b80e-4d47d194ae4b"
      },
      "source": [
        "plt.plot(xdata, ydata, 'o')\n",
        "\n",
        "plt.xlabel(\"x\")\n",
        "plt.ylabel(\"y = e^x\")\n",
        "plt.yscale('log')   # Plot the y-axis on a log scale\n",
        "\n",
        "plt.show()"
      ],
      "execution_count": null,
      "outputs": [
        {
          "output_type": "display_data",
          "data": {
            "image/png": "[encoded data removed]",
            "text/plain": [
              "<Figure size 432x288 with 1 Axes>"
            ]
          },
          "metadata": {
            "tags": [],
            "needs_background": "light"
          }
        }
      ]
    },
    {
      "cell_type": "markdown",
      "metadata": {
        "id": "KwdmA1ifYbcf"
      },
      "source": [
        "Even though we are plotting an exponential function, when we plot on a log scale the values look like a line. This is because:\n",
        "\n",
        "$y = e^x$\n",
        "\n",
        "$\\log(y) = \\log(e^x)$\n",
        "\n",
        "$\\log(y) = x \\log(e)$ (by log properties)\n",
        "\n",
        "In other words, the left hand side \"log y\" is just directly proportional to x!\n",
        "\n",
        "But note, that the **values** of $x$ and $y$ in our plot have NOT CHANGED! Check for yourself: when x = 9, the y-axis shows the value is around 10,000. If you look at the regular, linear plot we made above, you'll see the same thing.\n",
        "\n",
        "So, the *apparent shape* of the plot is different, but it conveys the same information.\n",
        "\n"
      ]
    },
    {
      "cell_type": "markdown",
      "metadata": {
        "id": "pD-iAKd-ROKf"
      },
      "source": [
        "\n",
        "Now, your turn to practice these skills. But instead of an exponential, let's play with some data that follows a power law like $x^\\alpha$.  As always, feel free to copy any modify any of the example code above to complete the problem below."
      ]
    },
    {
      "cell_type": "markdown",
      "metadata": {
        "id": "PkuaxvWEZd2s"
      },
      "source": [
        "## `Problem 8`\n",
        "\n",
        "`1) Create a new code cell below.`\n",
        "\n",
        "`2) Create some x data which contains at least five data points.`\n",
        "\n",
        "`3) Create some y data which is ` $y = x^5$`. Hint: You may need to use the np.power() function. See if you can find it on Google! You'd be surprised how easy it is to find answers about Python online.`\n",
        "\n",
        "`4) Make a plot of `$x$ `versus` $y$`  using markers (you can pick whichever shape you'd like), but only show the first three data points.`\n",
        "\n",
        "`5) Make another plot of `$x$ `versus` $y$`, but use log scale for BOTH the x-axis and the y-axis.`\n",
        "\n",
        "`6) Comment your code.`"
      ]
    },
    {
      "cell_type": "code",
      "metadata": {
        "colab": {
          "base_uri": "https://localhost:8080/",
          "height": 517
        },
        "id": "HPky5dD44uwe",
        "outputId": "316e6a58-3215-4f3e-adf7-34411c06ace3"
      },
      "source": [
        "x = [1,2,3,4,5]\n",
        "y = np.power(x,5)\n",
        "plt.plot(x,y,'^')\n",
        "plt.show()\n",
        "\n",
        "plt.plot(x,y, 'o')\n",
        "plt.xscale('log')\n",
        "plt.yscale('log')\n",
        "plt.show()"
      ],
      "execution_count": null,
      "outputs": [
        {
          "output_type": "display_data",
          "data": {
            "image/png": "[encoded data removed]",
            "text/plain": [
              "<Figure size 432x288 with 1 Axes>"
            ]
          },
          "metadata": {
            "tags": [],
            "needs_background": "light"
          }
        },
        {
          "output_type": "display_data",
          "data": {
            "image/png": "[encoded data removed]",
            "text/plain": [
              "<Figure size 432x288 with 1 Axes>"
            ]
          },
          "metadata": {
            "tags": [],
            "needs_background": "light"
          }
        }
      ]
    },
    {
      "cell_type": "markdown",
      "metadata": {
        "id": "F4VZUw15SOsR"
      },
      "source": [
        "\n",
        "# **Histograms and Power Law Fitting**"
      ]
    },
    {
      "cell_type": "markdown",
      "metadata": {
        "id": "rtnfjfkE2YRN"
      },
      "source": [
        "The last major type of calculation we'll need to do in this project is a \"power law fit.\"\n",
        "\n",
        "\n",
        "Recall: we think occurrences craters on the moon might follow a \"power law,\" meaning that the frequency is just equal to the diameter raised to some power $\\alpha$ (with a constant of proportionality $k$).\n",
        "\n",
        "$$F = k d^\\alpha$$\n",
        "\n",
        "The big question, of course, is \"What's the value of this exponent $\\alpha$?\" We're finally ready to use a clever data-fitting technique to answer that.\n",
        "\n",
        "\n"
      ]
    },
    {
      "cell_type": "markdown",
      "metadata": {
        "id": "JG0fzG7nZdHM"
      },
      "source": [
        "To get started, download the `lunar_crater_data.csv` from Canvas and upload the data into this google colab notebook, as you did before. Then, use the code below to load it into a dataframe"
      ]
    },
    {
      "cell_type": "code",
      "metadata": {
        "id": "3wQx0sFt5uw3",
        "colab": {
          "base_uri": "https://localhost:8080/",
          "height": 402
        },
        "outputId": "8e4c6bb1-84a2-4476-dd66-d5c5a8eb1f58"
      },
      "source": [
        "# Import the .csv file into a pandas dataframe\n",
        "import pandas as pd\n",
        "\n",
        "craters_df = pd.read_csv('lunar_crater_data.csv')  # You may need to change the\n",
        "                                                # name to match the .csv that\n",
        "                                                # you downloaded\n",
        "\n",
        "display(craters_df)  # Display the craters dataframe"
      ],
      "execution_count": null,
      "outputs": [
        {
          "output_type": "display_data",
          "data": {
            "text/html": [
              "<div>\n",
              "<style scoped>\n",
              "    .dataframe tbody tr th:only-of-type {\n",
              "        vertical-align: middle;\n",
              "    }\n",
              "\n",
              "    .dataframe tbody tr th {\n",
              "        vertical-align: top;\n",
              "    }\n",
              "\n",
              "    .dataframe thead th {\n",
              "        text-align: right;\n",
              "    }\n",
              "</style>\n",
              "<table border=\"1\" class=\"dataframe\">\n",
              "  <thead>\n",
              "    <tr style=\"text-align: right;\">\n",
              "      <th></th>\n",
              "      <th>CRATER_ID</th>\n",
              "      <th>DIAMETER_M</th>\n",
              "    </tr>\n",
              "  </thead>\n",
              "  <tbody>\n",
              "    <tr>\n",
              "      <th>0</th>\n",
              "      <td>00-1-000000</td>\n",
              "      <td>940.96000</td>\n",
              "    </tr>\n",
              "    <tr>\n",
              "      <th>1</th>\n",
              "      <td>00-1-000001</td>\n",
              "      <td>249.84000</td>\n",
              "    </tr>\n",
              "    <tr>\n",
              "      <th>2</th>\n",
              "      <td>00-1-000002</td>\n",
              "      <td>599.77800</td>\n",
              "    </tr>\n",
              "    <tr>\n",
              "      <th>3</th>\n",
              "      <td>00-1-000003</td>\n",
              "      <td>558.76200</td>\n",
              "    </tr>\n",
              "    <tr>\n",
              "      <th>4</th>\n",
              "      <td>00-1-000004</td>\n",
              "      <td>654.33200</td>\n",
              "    </tr>\n",
              "    <tr>\n",
              "      <th>...</th>\n",
              "      <td>...</td>\n",
              "      <td>...</td>\n",
              "    </tr>\n",
              "    <tr>\n",
              "      <th>10294</th>\n",
              "      <td>01-1-013010</td>\n",
              "      <td>4.00866</td>\n",
              "    </tr>\n",
              "    <tr>\n",
              "      <th>10295</th>\n",
              "      <td>01-1-013011</td>\n",
              "      <td>1.14607</td>\n",
              "    </tr>\n",
              "    <tr>\n",
              "      <th>10296</th>\n",
              "      <td>01-1-013012</td>\n",
              "      <td>1.79853</td>\n",
              "    </tr>\n",
              "    <tr>\n",
              "      <th>10297</th>\n",
              "      <td>01-1-013013</td>\n",
              "      <td>1.59148</td>\n",
              "    </tr>\n",
              "    <tr>\n",
              "      <th>10298</th>\n",
              "      <td>01-1-013014</td>\n",
              "      <td>3.73526</td>\n",
              "    </tr>\n",
              "  </tbody>\n",
              "</table>\n",
              "<p>10299 rows × 2 columns</p>\n",
              "</div>"
            ],
            "text/plain": [
              "         CRATER_ID  DIAMETER_M\n",
              "0      00-1-000000   940.96000\n",
              "1      00-1-000001   249.84000\n",
              "2      00-1-000002   599.77800\n",
              "3      00-1-000003   558.76200\n",
              "4      00-1-000004   654.33200\n",
              "...            ...         ...\n",
              "10294  01-1-013010     4.00866\n",
              "10295  01-1-013011     1.14607\n",
              "10296  01-1-013012     1.79853\n",
              "10297  01-1-013013     1.59148\n",
              "10298  01-1-013014     3.73526\n",
              "\n",
              "[10299 rows x 2 columns]"
            ]
          },
          "metadata": {
            "tags": []
          }
        }
      ]
    },
    {
      "cell_type": "markdown",
      "metadata": {
        "id": "Ttq97-X_567A"
      },
      "source": [
        "\n",
        "\n",
        "The `lunar_crater_data.csv` data has two columns: first, the \"crater ID number\" and, second, the diameter of the crater in meters. This data was is part of the [Lunar Crater Database](https://astrogeology.usgs.gov/search/map/Moon/Research/Craters/lunar_crater_database_robbins_2018#:~:text=Product%20Information%3A,diameter%20(Robbins%2C%202018)) which contains approximately 1.3 million lunar impact craters and is approximately complete for all craters larger than about 1–2 km in diameter.\n",
        "\n",
        "\n",
        "How do we quantify how \"frequently\" the different crater diameters occur? We can use a statistical tool called a \"histogram\" to begin to answer this.\n",
        "\n",
        "A histogram splits the data up into different intervals called \"bins\": for example, perhaps we group all the of the craters with a diameter from 0 up to 1m, and then all the craters from 1m up to 2m, etc. Then we graph how many craters are in each bin, which tells us which crater types occur most frequently.\n",
        "\n",
        "Let's use the `np.histogram` function from the **numpy** library to make a histogram plot. The histogram is what gives us that occurrence frequency $F$.\n",
        "\n",
        "The following code is probably one of the most technical parts of this notebook, and you don't need to understand how it all works yet.\n",
        "\n",
        "For now, let's just focus on one very important point about histograms. You get to CHOOSE how many \"bins\" to use (and hence, how many points will be on the plot). This is a complicated decision-- too few points, and you'll have very litte data, but too many and yor data may become unnaturally noisy.\n",
        "\n",
        "We'll explore that a little today and in more detail later in the course. For now let's arbitrarily choose to make a histogram with 10 bins.\n"
      ]
    },
    {
      "cell_type": "code",
      "metadata": {
        "id": "a0aLXwQz56g2"
      },
      "source": [
        "########################\n",
        "## Making a Histogram ##\n",
        "########################\n",
        "\n",
        "import numpy as np\n",
        "import matplotlib.pyplot as plt\n",
        "\n",
        "n_bins = 10\n",
        "\n",
        "bin_edges = np.geomspace(1, 10000, n_bins+1) # Define bin edges to be from 1 to 10000 logarithmically spaced apart\n",
        "\n",
        "# Find the values of the bins and bin edges of a histogram of the crater\n",
        "#diameter data using the defined bin_edges\n",
        "hist, bin_edges = np.histogram(craters_df['DIAMETER_M'], bins=bin_edges)\n",
        "\n",
        "                                          #In the future we will need to talk\n",
        "                                          #more about how to choose the number of bins!\n",
        "\n",
        "bin_centers = (bin_edges[1:] + bin_edges[:-1]) * .5     # Calculate the bin centers and widths\n",
        "bin_width = np.diff(bin_edges)                          # Don't worry about this too much for now\n",
        "                                                        # These are just some technical details\n",
        "                                                        # For how to make a histogram that we'll\n",
        "                                                        # Help you with as you need them\n",
        "\n",
        "normed_hist = hist/bin_width                            # Normalize the frequencies\n",
        "\n",
        "d_data = bin_centers                                    # The diameter data for the histogram\n",
        "F_data = normed_hist                                    # The frequency data for this histogram\n",
        "\n",
        "\n",
        "d_data = d_data[np.nonzero(F_data)]                     # A little technical step-- we want to\n",
        "F_data = F_data[np.nonzero(F_data)]                     # keep only the nonzero data or the\n",
        "                                                        # zeros will cause problems later."
      ],
      "execution_count": null,
      "outputs": []
    },
    {
      "cell_type": "code",
      "metadata": {
        "id": "gOAC53wnAzf0",
        "colab": {
          "base_uri": "https://localhost:8080/",
          "height": 279
        },
        "outputId": "1bb6f292-d51c-48c0-e73f-f324ae059190"
      },
      "source": [
        "# Plot the histogram data to visualize\n",
        "plt.plot(d_data, F_data, '.')\n",
        "plt.ylabel(\"Frequency per meter (1/m)\")\n",
        "plt.xlabel(\"Diameter (m)\")\n",
        "\n",
        "plt.show()"
      ],
      "execution_count": null,
      "outputs": [
        {
          "output_type": "display_data",
          "data": {
            "image/png": "[encoded data removed]",
            "text/plain": [
              "<Figure size 432x288 with 1 Axes>"
            ]
          },
          "metadata": {
            "tags": [],
            "needs_background": "light"
          }
        }
      ]
    },
    {
      "cell_type": "markdown",
      "metadata": {
        "id": "AB9_3lnx9t22"
      },
      "source": [
        "Roughly speaking, this graph shows how frequently craters occur in each bin, which you can think of as the relative probabilities of finding a crater of various sizes.\n",
        "\n",
        "We can already see some qualitative features. The smaller craters are much more common, and the liklihood (\"frequency\") of other craters seems to drop dramatically as the craters get larger.\n",
        "\n",
        "As you can see, this graph is a little hard to read. But we've seen this problem before: the data covers such a wide range, and it's difficult to view on a regular plot.\n",
        "\n",
        "We know how to handle this! To better visualize the data, let's plot the y-axis and x-axis on a log scales. Remember how?:"
      ]
    },
    {
      "cell_type": "code",
      "metadata": {
        "id": "Sr39M8329-ZD",
        "colab": {
          "base_uri": "https://localhost:8080/",
          "height": 299
        },
        "outputId": "9b68c0d7-0159-4718-b012-483bf8fc7a62"
      },
      "source": [
        "# Plot the histogram on log-log scale to visualize\n",
        "plt.plot(d_data, F_data, '.')\n",
        "\n",
        "plt.ylabel(\"Frequency per meter (1/m)\")\n",
        "plt.xlabel(\"Diameter (m)\")\n",
        "\n",
        "plt.xscale(\"log\")\n",
        "plt.yscale(\"log\")\n",
        "\n",
        "plt.title(\"Lunar Crater Size Distribution\")\n",
        "\n",
        "plt.show()"
      ],
      "execution_count": null,
      "outputs": [
        {
          "output_type": "display_data",
          "data": {
            "image/png": "[encoded data removed]",
            "text/plain": [
              "<Figure size 432x288 with 1 Axes>"
            ]
          },
          "metadata": {
            "tags": [],
            "needs_background": "light"
          }
        }
      ]
    },
    {
      "cell_type": "markdown",
      "metadata": {
        "id": "pXV8PzG0_Pjm"
      },
      "source": [
        "Aha! This is starting to resemble the plot we started with, just with fewer data points.\n",
        "\n",
        "The most important point here is that when we plotted both $F$ vs $d$ in log scale, we got something almost linear. This is actually exactly what our power law theory predicts. Recall that the *generic* power law theory was\n",
        "\n",
        "$$F = kd^\\alpha$$\n",
        "\n",
        "If we take the log of both sides and use some log properties, we have:\n",
        "\n",
        "$$\\log(F) = \\alpha \\log(d) + \\log(k) $$\n",
        "\n",
        "In other words, the thing on the y-axis (log F), equals the thing on the x-axis (log d) times some slope, plus some constant. It's $y = mx + b$.\n",
        "\n",
        "Now we can find alpha using a handy math trick, with the following steps:\n",
        "\n",
        "1. Take the log of both $F$ and $d$. These data are now linear.\n",
        "2. Find the best-fit line for this linear data. The slope of this line is just alpha! Do you see this in the equation above?\n",
        "3. Then, to check our work, we can \"undo\" the log of our data and plot it normally (Do you recall from math classes how to undo a log?)\n",
        "\n",
        "\n",
        " This procedure is nice because fitting straight lines and extracting slopes is particularly easy in Python. We could also use the intercept of the best-fit line to find $k$, if we wanted. Then we'd know the *exact* power law for this situation.\n",
        "\n",
        " We'll find the best-fit line using a function called \"linregress\". Linregress takes in our x- and y- data and gives us back four things: the slope of the best-fit line, the intercept of the best-fit line, and thre other statistical parameters (called the \"r\", \"p\", and \"s\" values) that we don't need today.  \n",
        "\n",
        "The code below implements these three steps. Read through it, because you're about to do this on your own (but as usual, you can borrow and modify instead of writing code from scratch!)\n",
        "\n",
        "\n"
      ]
    },
    {
      "cell_type": "code",
      "metadata": {
        "id": "VVtYprUXK-xA",
        "colab": {
          "base_uri": "https://localhost:8080/",
          "height": 329
        },
        "outputId": "982624e5-bd48-4538-cffb-e09e6b6ec2c9"
      },
      "source": [
        "######################\n",
        "## Extracting Alpha ##\n",
        "######################\n",
        "\n",
        "# First, import the library that contains the \"linregress\" function\n",
        "# so that we can use it later.\n",
        "import numpy as np\n",
        "import scipy.stats as stats\n",
        "\n",
        "#First, to keep things clear, let's define our data:\n",
        "x_data = d_data\n",
        "y_data = F_data\n",
        "\n",
        "\n",
        "# 1. Take the log of both sets of data. Note that in python \"log\" is actually a natural log\n",
        "lx_data = np.log(x_data)  # Take the log of the original x-data (d)\n",
        "ly_data = np.log(y_data)  # Take the log of the original y-data (F)\n",
        "\n",
        "\n",
        "\n",
        "#2. Find the best-fit line for the new linear data.\n",
        "# here's the command to get a best-fit line from log F vs log d\n",
        "\n",
        "[slope, intercept, r_val, p_val, s_val] = stats.linregress(lx_data, ly_data)\n",
        "\n",
        "print(\"The slope is \", slope)\n",
        "print(\"The intercept is \", intercept)\n",
        "\n",
        "# The best fit line is y = (slope)*log(x) + (Intercept)\n",
        "best_fit = slope*lx_data + intercept\n",
        "\n",
        "\n",
        "\n",
        "#3. \"Undo\" the logging of everything. The opposite of natural log is\n",
        "# e^x, which in python is called \"np.exp()\"\n",
        "\n",
        "unlogged_best_fit= np.exp(best_fit)\n",
        "\n",
        "\n",
        "\n",
        "\n",
        "# All done! Ready to plot everything to check our work?\n",
        "\n",
        "plt.plot(x_data, y_data, 'b.')  # Plot the actual data as blue dots\n",
        "plt.plot(x_data, unlogged_best_fit, 'g-')  #plot the best fit line in green\n",
        "\n",
        "plt.title(\"Lunar Crater Size Distribution\")\n",
        "plt.ylabel(\"Frequency per meter (1/m)\")\n",
        "plt.xlabel(\"Diameter (m)\")\n",
        "plt.legend([\"Lunar crater data\", \"Best fit\"])\n",
        "\n",
        "plt.show()\n",
        "\n"
      ],
      "execution_count": null,
      "outputs": [
        {
          "output_type": "stream",
          "text": [
            "The slope is  -2.109829686666178\n",
            "The intercept is  9.688180463281439\n"
          ],
          "name": "stdout"
        },
        {
          "output_type": "display_data",
          "data": {
            "image/png": "[encoded data removed]",
            "text/plain": [
              "<Figure size 432x288 with 1 Axes>"
            ]
          },
          "metadata": {
            "tags": [],
            "needs_background": "light"
          }
        }
      ]
    },
    {
      "cell_type": "markdown",
      "metadata": {
        "id": "_POAKzrK0z2R"
      },
      "source": [
        "So far so good, except that just as before, it's hard to see the details on data that are this spread out. Let's repeat that last plotting step but use log-log scale this time, where we know it's easier to see."
      ]
    },
    {
      "cell_type": "code",
      "metadata": {
        "id": "z563XVc_g5Tw",
        "colab": {
          "base_uri": "https://localhost:8080/",
          "height": 299
        },
        "outputId": "1e14c8ac-c384-4d4b-a0a9-940263957d61"
      },
      "source": [
        "plt.plot(x_data, y_data, 'g.')  # Plot the actual data as green dots\n",
        "plt.plot(x_data, unlogged_best_fit, 'b-')  #plot the best fit line in blue\n",
        "\n",
        "plt.title(\"Lunar Crater Size Distribution\")\n",
        "plt.ylabel(\"Frequency per meter (1/m)\")\n",
        "plt.xlabel(\"Diameter (m)\")\n",
        "plt.legend([\"Lunar crater data\", \"Best fit\"])         #Everything same as before, except\n",
        "\n",
        "plt.xscale(\"log\")           #This is the only new bit\n",
        "plt.yscale(\"log\")           #Use log scale for both axes\n",
        "\n",
        "plt.show()"
      ],
      "execution_count": null,
      "outputs": [
        {
          "output_type": "display_data",
          "data": {
            "image/png": "[encoded data removed]",
            "text/plain": [
              "<Figure size 432x288 with 1 Axes>"
            ]
          },
          "metadata": {
            "tags": [],
            "needs_background": "light"
          }
        }
      ]
    },
    {
      "cell_type": "markdown",
      "metadata": {
        "id": "Tjd7vg7DkRP-"
      },
      "source": [
        "\n",
        "\n",
        "Now we can really evaluate the results. Looks pretty good, but remember that we picked the number of \"bins\" to be 10, purely arbitrarily. We should examine how the results would change if we used a different number.\n",
        "\n",
        "\n",
        "\n",
        " This is your final task for this assignment: repeat the lunar crater analysis above (which is very similar to the final task you'll be doing with our solar flare data towards the end of the semester!) But this time, use 50 bins instead of just 10 to see how things change.\n"
      ]
    },
    {
      "cell_type": "markdown",
      "metadata": {
        "id": "a6wXrdQnKAFM"
      },
      "source": [
        "\n",
        "## `Problem 9`\n",
        "\n",
        "`1) Create a new code cell below.`\n",
        "\n",
        "`2) Copy the two large code blocks above labelled \"Making a Histogram\" and \"Extracting Alpha\" into your cell. We know this code works, so we can borrow it, but you'll need to make a few modifications:`\n",
        "\n",
        "`3) Modify the first line code from \"Making a Histogram\" so we have 50 bins (the n_bins variable).`\n",
        "\n",
        "`4) Modify the code so that it plots on log-log scale, since we determined that to be more useful.`\n",
        "\n",
        "`5) Modify the code so that it plots the new best-fit line in a color other than green, so that we can tell the difference.`\n",
        "\n",
        "`6) Modify your code so that it prints out the new value of alpha that you have calculated in a sentence like \"the new value of alpha was such-and-such.\"`\n",
        "\n",
        "`7) Make sure the plot still contains a title, axis labels, and a legend labelling all things plotted (Data and lines). Update these to indicate that the plot shows a new best fit line. `\n",
        "\n",
        "`8) Comment your code. `\n",
        "\n"
      ]
    },
    {
      "cell_type": "code",
      "metadata": {
        "colab": {
          "base_uri": "https://localhost:8080/",
          "height": 350
        },
        "id": "NH0JeMSk5iXy",
        "outputId": "e619f32d-c546-4930-8a94-3eadead4b881"
      },
      "source": [
        "########################\n",
        "## Making a Histogram ##\n",
        "########################\n",
        "\n",
        "import numpy as np\n",
        "import matplotlib.pyplot as plt\n",
        "\n",
        "n_bins = 50\n",
        "\n",
        "bin_edges = np.geomspace(1, 10000, n_bins+1) # Define bin edges to be from 1 to 10000 logarithmically spaced apart\n",
        "\n",
        "# Find the values of the bins and bin edges of a histogram of the crater\n",
        "#diameter data using the defined bin_edges\n",
        "hist, bin_edges = np.histogram(craters_df['DIAMETER_M'], bins=bin_edges)\n",
        "\n",
        "                                          #In the future we will need to talk\n",
        "                                          #more about how to choose the number of bins!\n",
        "\n",
        "bin_centers = (bin_edges[1:] + bin_edges[:-1]) * .5     # Calculate the bin centers and widths\n",
        "bin_width = np.diff(bin_edges)                          # Don't worry about this too much for now\n",
        "                                                        # These are just some technical details\n",
        "                                                        # For how to make a histogram that we'll\n",
        "plt.yscale('log')                                       # Help you with as you need them\n",
        "plt.xscale('log')\n",
        "\n",
        "normed_hist = hist/bin_width                            # Normalize the frequencies\n",
        "\n",
        "d_data = bin_centers                                    # The diameter data for the histogram\n",
        "F_data = normed_hist                                    # The frequency data for this histogram\n",
        "\n",
        "\n",
        "d_data = d_data[np.nonzero(F_data)]                     # A little technical step-- we want to\n",
        "F_data = F_data[np.nonzero(F_data)]                     # keep only the nonzero data or the\n",
        "                                                        # zeros will cause problems later.\n",
        "######################\n",
        "## Extracting Alpha ##\n",
        "######################\n",
        "\n",
        "# First, import the library that contains the \"linregress\" function\n",
        "# so that we can use it later.\n",
        "import scipy.stats as stats\n",
        "\n",
        "#First, to keep things clear, let's define our data:\n",
        "x_data = d_data\n",
        "y_data = F_data\n",
        "\n",
        "\n",
        "# 1. Take the log of both sets of data. Note that in python \"log\" is actually a natural log\n",
        "lx_data = np.log(x_data)  # Take the log of the original x-data (d)\n",
        "ly_data = np.log(y_data)  # Take the log of the original y-data (F)\n",
        "\n",
        "\n",
        "\n",
        "#2. Find the best-fit line for the new linear data.\n",
        "# here's the command to get a best-fit line from log F vs log d\n",
        "\n",
        "[slope, intercept, r_val, p_val, s_val] = stats.linregress(lx_data, ly_data)\n",
        "\n",
        "print(f\"The slope is {slope:.5}\")\n",
        "print(f\"The new value of alpha is {slope:.5}\")\n",
        "print(f\"The intercept is {intercept:.5}\")\n",
        "\n",
        "# The best fit line is y = (slope)*log(x) + (Intercept)\n",
        "best_fit = slope*lx_data + intercept\n",
        "\n",
        "\n",
        "\n",
        "#3. \"Undo\" the logging of everything. The opposite of natural log is\n",
        "# e^x, which in python is called \"np.exp()\"\n",
        "\n",
        "unlogged_best_fit= np.exp(best_fit)\n",
        "\n",
        "\n",
        "\n",
        "\n",
        "# All done! Ready to plot everything to check our work?\n",
        "\n",
        "plt.plot(x_data, y_data, 'b.')  # Plot the actual data as blue dots\n",
        "plt.plot(x_data, unlogged_best_fit, 'b-')  #plot the best fit line in green\n",
        "\n",
        "plt.title(\"Lunar Crater Size Distribution\")\n",
        "plt.ylabel(\"Frequency per meter (1/m)\")\n",
        "plt.xlabel(\"Diameter (m)\")\n",
        "plt.legend([\"Lunar crater data\", \"New Best fit\"])\n",
        "\n",
        "plt.show()"
      ],
      "execution_count": null,
      "outputs": [
        {
          "output_type": "stream",
          "text": [
            "The slope is -2.0242\n",
            "The new value of alpha is -2.0242\n",
            "The intercept is 9.2166\n"
          ],
          "name": "stdout"
        },
        {
          "output_type": "display_data",
          "data": {
            "image/png": "[encoded data removed]",
            "text/plain": [
              "<Figure size 432x288 with 1 Axes>"
            ]
          },
          "metadata": {
            "tags": [],
            "needs_background": "light"
          }
        }
      ]
    },
    {
      "cell_type": "markdown",
      "metadata": {
        "id": "cEafQ5cU1VSL"
      },
      "source": [
        "\n",
        "## `Problem 10`\n",
        "\n",
        "`1) Create a new text cell below and give the final value as YOU computed it. Describe the differences between your plot with 50 bins verus the one above with 10. Which do you think is better for fitting the data, and why?`\n",
        "\n",
        "\n"
      ]
    },
    {
      "cell_type": "markdown",
      "metadata": {
        "id": "OXPwKmwl5o7l"
      },
      "source": [
        "My plot has more data points, 50 compared to 10. This means my data can help determine a more accurate conclusion. My final value was -2.0242"
      ]
    },
    {
      "cell_type": "markdown",
      "metadata": {
        "id": "-lVq9BaTkqzq"
      },
      "source": []
    },
    {
      "cell_type": "code",
      "metadata": {
        "id": "QzCaJf0ad8PD"
      },
      "source": [],
      "execution_count": null,
      "outputs": []
    }
  ]
}