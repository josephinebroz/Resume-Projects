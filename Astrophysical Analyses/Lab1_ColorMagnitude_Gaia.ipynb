{
 "cells": [
  {
   "cell_type": "code",
   "execution_count": 4,
   "metadata": {},
   "outputs": [],
   "source": [
    "%matplotlib inline\n",
    "import matplotlib.pyplot as plt\n",
    "import pandas as pd\n",
    "import numpy as np"
   ]
  },
  {
   "cell_type": "markdown",
   "metadata": {},
   "source": [
    "### Names of all group members: Josephine Brozny, ..."
   ]
  },
  {
   "cell_type": "markdown",
   "metadata": {},
   "source": [
    "# Lab 1\n",
    "In this lab, we'll follow in the steps of Hertzsprung and Russell and make a color-magnitude diagram showing the different populations of stars commonly observed in the Milky Way.\n",
    "\n",
    "Before starting, you'll need to download a Gaia DR2 data file and read about the data format and description of variables:\n",
    "### Gaia filters: https://www.cosmos.esa.int/web/gaia/iow_20180316\n",
    "### data release 2 (DR2): https://www.cosmos.esa.int/web/gaia/data-release-2\n",
    "### data file download (pick any files): http://cdn.gea.esac.esa.int/Gaia/gdr2/gaia_source/csv/\n",
    "### data format description: https://gea.esac.esa.int/archive/documentation/GDR2/Gaia_archive/chap_datamodel/sec_dm_main_tables/ssec_dm_gaia_source.html\n",
    "\n",
    "You'll also want to make sure you run the cell above to import the modules you will need to process/plot the data."
   ]
  },
  {
   "cell_type": "markdown",
   "metadata": {},
   "source": [
    "#### 1. Read in the data\n",
    "Download a file from the link and save it someplace useful (moving the file to this directory will be easiest). The file should be named something like:\n",
    "GaiaSource-1000172165251650944-1000424567594791808.csv.\n",
    "\n",
    "```python\n",
    "data_file = 'Path/to/file.csv' #if you saved this in local directory just put the file name\n",
    "```\n",
    "\n",
    "we can read in the CSV data file using pandas"
   ]
  },
  {
   "cell_type": "code",
   "execution_count": 5,
   "metadata": {},
   "outputs": [],
   "source": [
    "data_file = 'GaiaSource_1000172165251650944_1000424567594791808.csv.gz'\n",
    "data = pd.read_csv(data_file)"
   ]
  },
  {
   "cell_type": "markdown",
   "metadata": {},
   "source": [
    "**2. Make sure it worked and inspect data**\n",
    "\n",
    "You can look at the variables in the file using `data.keys()` -- check to make sure the fields you imported match the data format description above. You can check the integrity of a specific category (ie make sure it actually imported sensible numbers) by running something like `print(data.NameOfField)`. Do this below:"
   ]
  },
  {
   "cell_type": "code",
   "execution_count": 6,
   "metadata": {},
   "outputs": [
    {
     "name": "stdout",
     "output_type": "stream",
     "text": [
      "<bound method NDFrame.keys of                solution_id                   designation            source_id  \\\n",
      "0      1635721458409799680  Gaia DR2 1000225938242805248  1000225938242805248   \n",
      "1      1635721458409799680  Gaia DR2 1000383512003001728  1000383512003001728   \n",
      "2      1635721458409799680  Gaia DR2 1000274106300491264  1000274106300491264   \n",
      "3      1635721458409799680  Gaia DR2 1000396156385741312  1000396156385741312   \n",
      "4      1635721458409799680  Gaia DR2 1000250024419296000  1000250024419296000   \n",
      "...                    ...                           ...                  ...   \n",
      "14204  1635721458409799680  Gaia DR2 1000277473554949120  1000277473554949120   \n",
      "14205  1635721458409799680  Gaia DR2 1000376159018113152  1000376159018113152   \n",
      "14206  1635721458409799680  Gaia DR2 1000390414013986304  1000390414013986304   \n",
      "14207  1635721458409799680  Gaia DR2 1000261427557282560  1000261427557282560   \n",
      "14208  1635721458409799680  Gaia DR2 1000289190225324288  1000289190225324288   \n",
      "\n",
      "       random_index  ref_epoch          ra  ra_error        dec  dec_error  \\\n",
      "0        1197051105     2015.5  103.447529  0.041099  56.022025   0.045175   \n",
      "1         598525552     2015.5  105.187856  0.016978  56.267982   0.016904   \n",
      "2         299262776     2015.5  103.424758  0.464608  56.450903   0.582490   \n",
      "3        1148557518     2015.5  105.049751  0.838232  56.508777   0.744511   \n",
      "4         574278759     2015.5  103.352525  0.023159  56.395144   0.022836   \n",
      "...             ...        ...         ...       ...        ...        ...   \n",
      "14204    1285048361     2015.5  103.317124  0.171921  56.619457   0.171975   \n",
      "14205    1576488088     2015.5  105.467759  1.130247  56.261516   1.782351   \n",
      "14206     988789348     2015.5  105.200935  0.249384  56.399065   0.281665   \n",
      "14207     970423763     2015.5  103.574689  0.551404  56.431876   0.540926   \n",
      "14208    1316347764     2015.5  103.163783  0.150384  56.889418   0.141985   \n",
      "\n",
      "       parallax  ...  e_bp_min_rp_val  e_bp_min_rp_percentile_lower  \\\n",
      "0      0.582790  ...           0.0595                        0.0080   \n",
      "1      1.385686  ...           0.2430                        0.0830   \n",
      "2      0.314035  ...              NaN                           NaN   \n",
      "3      1.939951  ...              NaN                           NaN   \n",
      "4      0.747108  ...           0.2870                        0.1196   \n",
      "...         ...  ...              ...                           ...   \n",
      "14204  0.635295  ...              NaN                           NaN   \n",
      "14205 -5.242704  ...              NaN                           NaN   \n",
      "14206 -0.339148  ...              NaN                           NaN   \n",
      "14207  1.992706  ...              NaN                           NaN   \n",
      "14208  0.438020  ...              NaN                           NaN   \n",
      "\n",
      "       e_bp_min_rp_percentile_upper  flame_flags  radius_val  \\\n",
      "0                            0.1351     200111.0    1.024730   \n",
      "1                            0.4030     200111.0    1.388711   \n",
      "2                               NaN          NaN         NaN   \n",
      "3                               NaN          NaN         NaN   \n",
      "4                            0.4051     200111.0    1.507958   \n",
      "...                             ...          ...         ...   \n",
      "14204                           NaN          NaN         NaN   \n",
      "14205                           NaN          NaN         NaN   \n",
      "14206                           NaN          NaN         NaN   \n",
      "14207                           NaN          NaN         NaN   \n",
      "14208                           NaN          NaN         NaN   \n",
      "\n",
      "       radius_percentile_lower  radius_percentile_upper   lum_val  \\\n",
      "0                     1.017359                 1.038814  1.075774   \n",
      "1                     1.311143                 1.453106  1.937890   \n",
      "2                          NaN                      NaN       NaN   \n",
      "3                          NaN                      NaN       NaN   \n",
      "4                     1.435618                 1.540208  2.427377   \n",
      "...                        ...                      ...       ...   \n",
      "14204                      NaN                      NaN       NaN   \n",
      "14205                      NaN                      NaN       NaN   \n",
      "14206                      NaN                      NaN       NaN   \n",
      "14207                      NaN                      NaN       NaN   \n",
      "14208                      NaN                      NaN       NaN   \n",
      "\n",
      "       lum_percentile_lower  lum_percentile_upper  \n",
      "0                  0.801798              1.349751  \n",
      "1                  1.852440              2.023341  \n",
      "2                       NaN                   NaN  \n",
      "3                       NaN                   NaN  \n",
      "4                  2.152597              2.702158  \n",
      "...                     ...                   ...  \n",
      "14204                   NaN                   NaN  \n",
      "14205                   NaN                   NaN  \n",
      "14206                   NaN                   NaN  \n",
      "14207                   NaN                   NaN  \n",
      "14208                   NaN                   NaN  \n",
      "\n",
      "[14209 rows x 94 columns]>\n"
     ]
    }
   ],
   "source": [
    "#check the data key/field\n",
    "print(data.keys)"
   ]
  },
  {
   "cell_type": "markdown",
   "metadata": {},
   "source": [
    "**3. Filtering the data**\n",
    "\n",
    "Sometimes the data might include values that could not be properly calculated for some reason. These will be listed as \"NAN\" (not a number) and we want to discard these rows. Pandas has a nice built in methodology for doing this -- if you have some data in a data frame `df` you can drop all the names like:\n",
    "\n",
    "```python\n",
    "df = df.dropna()\n",
    "```\n",
    "\n",
    "We ***don't*** want to run this command on the entire dataset, however, because we only care if there's a NAN in a column we care about (this command deletes the entire row wherever it finds a NAN, so we could delete a lot of \"good\" rows by running it on the entire dataset as we don't care if certain data is missing). \n",
    "\n",
    "Instead we want to create a new data frame with just the fields we are going to need during lab, and then drop the NANs from that set. We can accomplish this with the `filter` keyword, ie:\n",
    "```python\n",
    "filteredDF = originalDF.filter(['columnName1','columnName2','columnName3'],axis=1) \n",
    "#axis tells it whether to cut by column or row\n",
    "```\n",
    "\n",
    "To complete this lab you will need **four things from the Gaia data-set**: a measure of the magnitude of flux from the green filter, a measure of the blue band - the red band, the parallax angle, and the ratio of the measured parallax to the associated error. \n",
    "\n",
    "Find what these things should be called in the data format description link above, then create a new filtered data frame with just these four items using the code above as an example. Then drop the NANs from this new, filtered data frame by using the code snippet at the top of the cell."
   ]
  },
  {
   "cell_type": "code",
   "execution_count": 7,
   "metadata": {},
   "outputs": [
    {
     "name": "stdout",
     "output_type": "stream",
     "text": [
      "       parallax  parallax_over_error  phot_g_mean_flux     bp_rp\n",
      "0      0.582790             8.286691       9268.427339  0.836315\n",
      "1      1.385686            58.609123      94231.473584  0.859184\n",
      "2      0.314035             0.351005        214.120845  2.126473\n",
      "3      1.939951             1.672998        117.648894  1.995594\n",
      "4      0.747108            20.524510      34481.065597  0.788165\n",
      "...         ...                  ...               ...       ...\n",
      "14204  0.635295             2.499070        791.764359  1.021986\n",
      "14205 -5.242704            -2.281596         97.101369       NaN\n",
      "14206 -0.339148            -0.845154        429.954097  1.482681\n",
      "14207  1.992706             2.579039        132.573123  1.819048\n",
      "14208  0.438020             2.131173        732.076742  1.684008\n",
      "\n",
      "[14209 rows x 4 columns]\n"
     ]
    }
   ],
   "source": [
    "#create a new DataFrame with just the relevant fields, then drop any NANs that might be present\n",
    "filteredDF = data.filter(['parallax', 'parallax_over_error', 'phot_g_mean_flux', 'bp_rp'],axis=1)\n",
    "filteredDf = filteredDF.dropna()\n",
    "print(filteredDF)\n"
   ]
  },
  {
   "cell_type": "markdown",
   "metadata": {},
   "source": [
    "### A color-magnitude diagram is a plot of absolute magnitude vs. stellar color\n",
    "\n",
    "We will therefore need to use the subset of Gaia measurements to infer these quantities"
   ]
  },
  {
   "cell_type": "markdown",
   "metadata": {},
   "source": [
    "#### 4. Calculate a photometric color as the Gaia measurements of \"Blue - Red\" filters = Bp - Rp\n",
    "This should be one of the fields you kept when you filtered the data in step 3. We are going to want to operate on this specifically, so it will be useful for us to extract it as its own variable separate from teh data frame. Insert your code for doing this below, assigning the result to a variable with a name like `BlueMinusRed`. "
   ]
  },
  {
   "cell_type": "code",
   "execution_count": 8,
   "metadata": {},
   "outputs": [
    {
     "name": "stdout",
     "output_type": "stream",
     "text": [
      "0        0.836315\n",
      "1        0.859184\n",
      "2        2.126473\n",
      "3        1.995594\n",
      "4        0.788165\n",
      "           ...   \n",
      "14203    1.086035\n",
      "14204    1.021986\n",
      "14206    1.482681\n",
      "14207    1.819048\n",
      "14208    1.684008\n",
      "Name: bp_rp, Length: 12557, dtype: float64\n"
     ]
    }
   ],
   "source": [
    "#extract photometric color from DataFrame\n",
    "BlueMinusRed = filteredDf['bp_rp']\n",
    "print(BlueMinusRed)"
   ]
  },
  {
   "cell_type": "markdown",
   "metadata": {},
   "source": [
    "#### 5. Gaia reports the apparent magnitudes. To convert to absolute magnitude, we need to know the distance to each star.\n",
    "Gaia is an astrometric mission which makes very sensitive measurements of parallax as described in the pre-lab video. The parallax is 1/distance. Use the Gaia parallax saved in your filtered data frame (from step 3) to calculate distances to each star and call the resulting variable something like `distance`.\n",
    "\n",
    "Calculate your distances in pc -- make sure to note what units Gaia uses for parallax!"
   ]
  },
  {
   "cell_type": "code",
   "execution_count": 9,
   "metadata": {},
   "outputs": [
    {
     "name": "stdout",
     "output_type": "stream",
     "text": [
      "0        1715.882842\n",
      "1         721.664114\n",
      "2        3184.361663\n",
      "3         515.477011\n",
      "4        1338.495369\n",
      "            ...     \n",
      "14203    2889.540562\n",
      "14204    1574.072802\n",
      "14206   -2948.569228\n",
      "14207     501.830294\n",
      "14208    2283.001743\n",
      "Name: parallax, Length: 12557, dtype: float64\n"
     ]
    }
   ],
   "source": [
    "#calculate distances from parallax \n",
    "distance = 1/(filteredDf['parallax'])\n",
    "parallax = distance*1000\n",
    "print(parallax)"
   ]
  },
  {
   "cell_type": "markdown",
   "metadata": {},
   "source": [
    "#### 5. We can then use the measured distances to convert apparent to observed magnitudes\n",
    "There are many ways to do this, e.g. we could convert the apparent magnitudes to flux and then scale by the distance squared. The easiest way though is to use the \"distance modulus\" -- as discussed in the pre-lab video we can use this quantity to convert apparent --> absolute magnitude.\n",
    "\n",
    "Convert the Gaia G band apparent magnitude measurements to absolute G magnitudes and assign the result to a variable with a name like `GAbsMag`."
   ]
  },
  {
   "cell_type": "code",
   "execution_count": null,
   "metadata": {},
   "outputs": [],
   "source": []
  },
  {
   "cell_type": "code",
   "execution_count": 10,
   "metadata": {},
   "outputs": [
    {
     "name": "stdout",
     "output_type": "stream",
     "text": [
      "0       -14.022636\n",
      "1       -15.489871\n",
      "2        -7.694685\n",
      "3         2.906977\n",
      "4       -16.065219\n",
      "           ...    \n",
      "14203   -17.146447\n",
      "14204    -7.441066\n",
      "14206          NaN\n",
      "14207     2.742556\n",
      "14208    -9.104244\n",
      "Length: 12557, dtype: float64\n"
     ]
    },
    {
     "name": "stderr",
     "output_type": "stream",
     "text": [
      "/opt/conda/lib/python3.10/site-packages/pandas/core/arraylike.py:397: RuntimeWarning: invalid value encountered in log\n",
      "  result = getattr(ufunc, method)(*inputs, **kwargs)\n"
     ]
    }
   ],
   "source": [
    "#calculate abolute magnitudes here\n",
    "apparentmag = -2.5*np.log(filteredDf['phot_g_mean_flux'])\n",
    "GAbsMag = -(5*np.log(distance/10)) + apparentmag\n",
    "print(GAbsMag)"
   ]
  },
  {
   "cell_type": "markdown",
   "metadata": {},
   "source": [
    "#### 6. Signal-to-noise cut\n",
    "We only want to use data where the parallax (and so distance) is well measured\n",
    "We will define \"good\" data points as parallax signal-to-noise. You can define that cut using a conditional statement, ie \n",
    "`parallax_over_error > 4.0`.\n",
    "and assign the result to a variable `goodInd`. \n",
    "\n",
    "This defines a variable which is ```True``` if `parallax_over_error > 4.0` and `False` otherwise for all the possible indices of your data.\n",
    "\n",
    "To select only the good data points, you can then write `list[good]`. This is similar to how `list[0]` takes the first thing from a list -- `list[good]` is a powerful (and Pythonic) way of selecting many entries from a list based on the list generated when you run `parallax_over_error > 4`.\n"
   ]
  },
  {
   "cell_type": "code",
   "execution_count": 17,
   "metadata": {},
   "outputs": [
    {
     "name": "stdout",
     "output_type": "stream",
     "text": [
      "0        0.836315\n",
      "1        0.859184\n",
      "4        0.788165\n",
      "5        0.889985\n",
      "7        0.998480\n",
      "           ...   \n",
      "14181    2.886442\n",
      "14197    1.693439\n",
      "14198    1.276336\n",
      "14199    0.912789\n",
      "14203    1.086035\n",
      "Name: bp_rp, Length: 3660, dtype: float64\n"
     ]
    }
   ],
   "source": [
    "#create a goodInd list to keep track of the places where the SNR is > 4\n",
    "goodInd = filteredDf['parallax_over_error'] > 4.0\n",
    "goodnum = GAbsMag[goodInd]\n",
    "goodnums2 = BlueMinusRed[goodInd]\n",
    "print(goodnums2)"
   ]
  },
  {
   "cell_type": "markdown",
   "metadata": {},
   "source": [
    "#### 7. Color-magnitude diagram\n",
    "Plot your ***good*** absolute magnitude measurements vs. photometric color for all stars in your file. Remember you can select just the good measurements by indexing with the variable you created in the cell above.\n",
    "\n",
    "By default `plt.plot()` makes lines connecting points, which obviously we do not want for this plot... There are two \"simple\" ways to plot dots without connecting lines, as the examples below show:\n",
    "\n",
    "1. Using extra parameters in `plt.plot()`\n",
    "\n",
    "```python\n",
    "plt.plot(x,y,marker='.',linestyle='') #specifies no line ('') and to use a small dot at each point ('.')\n",
    "```\n",
    "\n",
    "2. Using `plt.scatter()`\n",
    "```python\n",
    "plt.scatter(x,y,s=3) #generates a scatter plot, s is an optional parameter that controls dot size\n",
    "```\n",
    "\n",
    "You'll want to change the axis so that the brightness of stars is increasing going up (recall what that means for magnitudes). You can explicitly specify the limits with `plt.ylim()` to change the y-axis (putting the bigger number first will make that number the bottom limit and make it run in \"reverse\"). \n",
    "\n",
    "Don't forget to add a descriptive title and label the axes!\n",
    "\n",
    "**Bonus:** use a colormap to make your plot closer to the ones you've likely seen in your textbooks (ie cool stars red, hot stars blue, middle stars yellow, etc.)"
   ]
  },
  {
   "cell_type": "code",
   "execution_count": 41,
   "metadata": {},
   "outputs": [
    {
     "data": {
      "image/png": "[encoded data removed]",
      "text/plain": [
       "<Figure size 432x288 with 1 Axes>"
      ]
     },
     "metadata": {
      "needs_background": "light"
     },
     "output_type": "display_data"
    }
   ],
   "source": [
    "#make your plot here!\n",
    "plt.title(\"H-R Diagram\")\n",
    "plt.xlabel(\"Color\")\n",
    "plt.ylabel(\"Luminosity\")\n",
    "plt.xlim(-1, 4)\n",
    "plt.ylim(15, -40)\n",
    "plt.plot(goodnums2,goodnum, marker='.', linestyle='')\n",
    "plt.show()"
   ]
  },
  {
   "cell_type": "markdown",
   "metadata": {},
   "source": [
    "#### 8. Interpretation\n",
    "\n",
    "Color-magnitude diagrams are used to classify populations of stars and understand their properties. Here we'll start to think about why they might be useful. Answer the following questions in the markdown cells provided after each.\n",
    "\n",
    "#### a) Compare with your \"neighbor(s)\" -- do your plots look the same? Comment on any differences you notice."
   ]
  },
  {
   "cell_type": "code",
   "execution_count": null,
   "metadata": {},
   "outputs": [],
   "source": [
    "Our plots look almost identical with the exception of some ourliers. For example the point on my graph (3, -30)\n",
    "does not show up on my peers graphs, but this is understandable considering our data is different. There is also a small distortion to\n",
    "our graphs in the x or y axis, but again is understandable due to having different x and y axes."
   ]
  },
  {
   "cell_type": "markdown",
   "metadata": {},
   "source": [
    "#### b) What do your x- and y-axis mean?\n",
    "\n",
    "Using the concepts of absolute magnitude and color temperature, think about what your plotted axes represent physically. \n",
    "\n",
    "Where are the most luminous stars on your plot? Where are the hottest stars?"
   ]
  },
  {
   "cell_type": "code",
   "execution_count": null,
   "metadata": {},
   "outputs": [],
   "source": [
    "Hotter and dimmer stars appear in the lower left quadrant, hotter and brighter stars appear in the upper left quadrant,\n",
    "cooler and dimmer stars appear in the lower right quadrant, and cooler and brighter stars appear in the upper right quadrant."
   ]
  },
  {
   "cell_type": "markdown",
   "metadata": {},
   "source": [
    "#### c) Stellar radius\n",
    "\n",
    "Using the definition of effective temperature, $L = 4\\pi R^2 \\sigma_b T_{\\rm eff}^4$, and your answers to part i), we can also use this diagram to infer the stellar radius $R$ at each point.\n",
    "\n",
    "Where are the largest stars on the diagram? Where are the smallest stars? Bonus: how should lines of constant $R$ look on the diagram?"
   ]
  },
  {
   "cell_type": "code",
   "execution_count": null,
   "metadata": {},
   "outputs": [],
   "source": [
    "The largest stars on the diagram appear in the upper right representing giants and supergiants which are large, and very luminous \n",
    "despite being lower temperature. Smallest stars appear in the lower left quadrant representing white dwarf stars which are small and not \n",
    "very luminous,despite having a high temperature. Lines of constant R occur at a steady slope down from upper left to lower right, following \n",
    "the main sequence."
   ]
  },
  {
   "cell_type": "markdown",
   "metadata": {},
   "source": [
    "#### d) Stellar populations\n",
    "\n",
    "On your diagram, do the stars uniformly fill the available space? Where are most of them located? Circle what you might describe as \"populations\" of stars in different regions of the diagram. There should be at least 3.\n",
    "\n",
    "Which of your populations contain the most stars, and what does that mean?"
   ]
  },
  {
   "cell_type": "code",
   "execution_count": null,
   "metadata": {},
   "outputs": [],
   "source": [
    "Stars on the diagram do not uniformly fill in the available space. Most stars follow the main sequence and remain there for maority\n",
    "of their lifespan. This spans from upper left to lower right. The main sequence shows the stages a star passes through in its lifetime. \n",
    "The top center/right can be circled to show supergiants, upper/middle center/right can be circled to show giants, and lower left can be \n",
    "circled to show white dwarfs."
   ]
  },
  {
   "cell_type": "markdown",
   "metadata": {},
   "source": []
  },
  {
   "cell_type": "code",
   "execution_count": null,
   "metadata": {},
   "outputs": [],
   "source": [
    "\n"
   ]
  }
 ],
 "metadata": {
  "kernelspec": {
   "display_name": "Python 3 (ipykernel)",
   "language": "python",
   "name": "python3"
  },
  "language_info": {
   "codemirror_mode": {
    "name": "ipython",
    "version": 3
   },
   "file_extension": ".py",
   "mimetype": "text/x-python",
   "name": "python",
   "nbconvert_exporter": "python",
   "pygments_lexer": "ipython3",
   "version": "3.10.8"
  }
 },
 "nbformat": 4,
 "nbformat_minor": 4
}
